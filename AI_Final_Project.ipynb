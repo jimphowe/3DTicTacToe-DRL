{
  "cells": [
    {
      "cell_type": "markdown",
      "id": "d9ac3d5a",
      "metadata": {
        "id": "d9ac3d5a"
      },
      "source": [
        "# Imports"
      ]
    },
    {
      "cell_type": "code",
      "execution_count": 2,
      "id": "bb821edd",
      "metadata": {
        "id": "bb821edd"
      },
      "outputs": [],
      "source": [
        "import random\n",
        "import numpy as np"
      ]
    },
    {
      "cell_type": "markdown",
      "id": "d616f1d0",
      "metadata": {
        "id": "d616f1d0"
      },
      "source": [
        "* Make a move for X -- pick best move, train the model based on picked state and associated reward, update state\n",
        "* determine best move -- based on Q grid\n",
        "* Train Model -- x value is the state as an array, y value (target) is the q-value of best next move + reward at current state \n",
        "* Calc_value_of_state -- use model to predict value of state\n",
        "* calc target -- is the q-value of best next move + reward at current state \n",
        "* run experiment -- runs through a tictactoe game "
      ]
    },
    {
      "cell_type": "markdown",
      "id": "16201813",
      "metadata": {
        "id": "16201813"
      },
      "source": [
        "# Piece Class"
      ]
    },
    {
      "cell_type": "code",
      "execution_count": 3,
      "id": "d87979f2",
      "metadata": {
        "id": "d87979f2"
      },
      "outputs": [],
      "source": [
        "from enum import Enum\n",
        "\n",
        "class Piece(Enum):\n",
        "    EMPTY = 'EMPTY'\n",
        "    BLACK = 'BLACK' # 'Neutral' Pieces\n",
        "    WHITE = 'WHITE' # Player color\n",
        "    RED = ' RED ' # Player color"
      ]
    },
    {
      "cell_type": "markdown",
      "id": "d23c6c04",
      "metadata": {
        "id": "d23c6c04"
      },
      "source": [
        "# Board Class"
      ]
    },
    {
      "cell_type": "code",
      "execution_count": 4,
      "id": "c95e6981",
      "metadata": {
        "id": "c95e6981"
      },
      "outputs": [],
      "source": [
        "import copy\n",
        "\n",
        "class Board:\n",
        "    def __init__(self):\n",
        "        # A 3x3x3 grid of pieces (empty, red, black, white)\n",
        "        self.pieces = [[[Piece.EMPTY for k in range(3)] for j in range(3)] for i in range(3)]\n",
        "        self.winningRuns = self.getWinningRuns()\n",
        "\n",
        "    # Return true if the specified location is empty, or is pieces can be pushed without pushing a piece out of the board\n",
        "    def validMove(self,x,y,z,dir):\n",
        "        if not x in range(3) or not y in range(3) or not z in range(3):\n",
        "              return False\n",
        "        if dir == 'UP':\n",
        "              return (z == 2) and (self.pieces[x][y][z] == Piece.EMPTY or self.pieces[x][y][z-1] == Piece.EMPTY or self.pieces[x][y][z-2] == Piece.EMPTY)\n",
        "        if dir == 'DOWN':\n",
        "              return (z == 0) and (self.pieces[x][y][z] == Piece.EMPTY or self.pieces[x][y][z+1] == Piece.EMPTY or self.pieces[x][y][z+2] == Piece.EMPTY)\n",
        "        if dir == 'LEFT':\n",
        "              return (x == 2) and (self.pieces[x][y][z] == Piece.EMPTY or self.pieces[x-1][y][z] == Piece.EMPTY or self.pieces[x-2][y][z] == Piece.EMPTY)\n",
        "        if dir == 'RIGHT':\n",
        "              return (x == 0) and (self.pieces[x][y][z] == Piece.EMPTY or self.pieces[x+1][y][z] == Piece.EMPTY or self.pieces[x+2][y][z] == Piece.EMPTY)\n",
        "        if dir == 'FRONT':\n",
        "              return (y == 2) and (self.pieces[x][y][z] == Piece.EMPTY or self.pieces[x][y-1][z] == Piece.EMPTY or self.pieces[x][y-2][z] == Piece.EMPTY)\n",
        "        if dir == 'BACK':\n",
        "              return (y == 0) and (self.pieces[x][y][z] == Piece.EMPTY or self.pieces[x][y+1][z] == Piece.EMPTY or self.pieces[x][y+2][z] == Piece.EMPTY)\n",
        "        else:\n",
        "              return False\n",
        "\n",
        "    # Makes a move after checking if it is valid\n",
        "    # If there is a piece in the specified location, it is pushed in the specified direction, along with the piece behind it if one exists  \n",
        "    def move(self,x,y,z,dir,player: Piece):\n",
        "        if not self.validMove(x,y,z,dir):\n",
        "             raise ValueError\n",
        "        else:\n",
        "            if (self.pieces[x][y][z] == Piece.EMPTY):\n",
        "                self.pieces[x][y][z] = player\n",
        "            else:\n",
        "                if dir == 'UP':\n",
        "                    if (self.pieces[x][y][z-1] == Piece.EMPTY):\n",
        "                        self.pieces[x][y][z-1] = self.pieces[x][y][z]\n",
        "                        self.pieces[x][y][z] = player\n",
        "                    else:\n",
        "                        self.pieces[x][y][z-2] = self.pieces[x][y][z-1]\n",
        "                        self.pieces[x][y][z-1] = self.pieces[x][y][z]\n",
        "                        self.pieces[x][y][z] = player\n",
        "                elif dir == 'DOWN':\n",
        "                      if (self.pieces[x][y][z+1] == Piece.EMPTY):\n",
        "                          self.pieces[x][y][z+1] = self.pieces[x][y][z]\n",
        "                          self.pieces[x][y][z] = player\n",
        "                      else:\n",
        "                          self.pieces[x][y][z+2] = self.pieces[x][y][z+1]\n",
        "                          self.pieces[x][y][z+1] = self.pieces[x][y][z]\n",
        "                          self.pieces[x][y][z] = player\n",
        "                elif dir == 'LEFT':\n",
        "                      if (self.pieces[x-1][y][z] == Piece.EMPTY):\n",
        "                          self.pieces[x-1][y][z] = self.pieces[x][y][z]\n",
        "                          self.pieces[x][y][z] = player\n",
        "                      else:\n",
        "                          self.pieces[x-2][y][z] = self.pieces[x-1][y][z]\n",
        "                          self.pieces[x-1][y][z] = self.pieces[x][y][z]\n",
        "                          self.pieces[x][y][z] = player\n",
        "                elif dir == 'RIGHT':\n",
        "                      if (self.pieces[x+1][y][z] == Piece.EMPTY):\n",
        "                          self.pieces[x+1][y][z] = self.pieces[x][y][z]\n",
        "                          self.pieces[x][y][z] = player\n",
        "                      else:\n",
        "                          self.pieces[x+2][y][z] = self.pieces[x+1][y][z]\n",
        "                          self.pieces[x+1][y][z] = self.pieces[x][y][z]\n",
        "                          self.pieces[x][y][z] = player\n",
        "                elif dir == 'FRONT':\n",
        "                      if (self.pieces[x][y-1][z] == Piece.EMPTY):\n",
        "                          self.pieces[x][y-1][z] = self.pieces[x][y][z]\n",
        "                          self.pieces[x][y][z] = player\n",
        "                      else:\n",
        "                          self.pieces[x][y-2][z] = self.pieces[x][y-1][z]\n",
        "                          self.pieces[x][y-1][z] = self.pieces[x][y][z]\n",
        "                          self.pieces[x][y][z] = player\n",
        "                elif dir == 'BACK':\n",
        "                      if (self.pieces[x][y+1][z] == Piece.EMPTY):\n",
        "                          self.pieces[x][y+1][z] = self.pieces[x][y][z]\n",
        "                          self.pieces[x][y][z] = player\n",
        "                      else:\n",
        "                          self.pieces[x][y+2][z] = self.pieces[x][y+1][z]\n",
        "                          self.pieces[x][y+1][z] = self.pieces[x][y][z]\n",
        "                          self.pieces[x][y][z] = player\n",
        "\n",
        "    # Returns a string representation of the gameboard, for debugging purposes\n",
        "    def getGameState(self):\n",
        "        gameState = \"+----------------------\\n\"\n",
        "        gameState += \"| \\ \" + self.pieces[0][2][0].value + \"  \" + self.pieces[1][2][0].value + \"  \" + self.pieces[2][2][0].value + \" \\\\\\n\"\n",
        "        gameState += \"|   \\                     \\\\\\n\"\n",
        "        gameState += \"|     \\ \" + self.pieces[0][1][0].value + \"  \" + self.pieces[1][1][0].value + \"  \" + self.pieces[2][1][0].value + \" \\\\\\n\"\n",
        "        gameState += \"|       \\                     \\\\\\n\"\n",
        "        gameState += \"|         \\ \" + self.pieces[0][0][0].value + \"  \" + self.pieces[1][0][0].value + \"  \" + self.pieces[2][0][0].value + \" \\\\\\n\"\n",
        "        gameState += \"|          ---------------------|\\n\"\n",
        "        gameState += \"|   \" + self.pieces[0][2][1].value + \" |\" + self.pieces[1][2][1].value + \"  \" + self.pieces[2][2][1].value + \"         |\\n\"\n",
        "        gameState += \"|         |                     |\\n\"\n",
        "        gameState += \"|       \" + self.pieces[0][1][1].value + \"  \" + self.pieces[1][1][1].value + \"  \" + self.pieces[2][1][1].value + \"     |\\n\"\n",
        "        gameState += \"|         |                     |\\n\"\n",
        "        gameState += \"|         | \" + self.pieces[0][0][1].value + \"  \" + self.pieces[1][0][1].value + \"  \" + self.pieces[2][0][1].value + \" |\\n\"\n",
        "        gameState += \"|         |                     |\\n\"\n",
        "        gameState += \" \\ \" + self.pieces[0][2][2].value + \"  \" + self.pieces[1][2][2].value + \"  \" + self.pieces[2][2][2].value + \"          |\\n\"\n",
        "        gameState += \"   \\      |                     |\\n\"\n",
        "        gameState += \"     \\ \" + self.pieces[0][1][2].value + \"  \" + self.pieces[1][1][2].value + \"  \" + self.pieces[2][1][2].value + \"      |\\n\"\n",
        "        gameState += \"       \\  |                     |\\n\"\n",
        "        gameState += \"         \\| \" + self.pieces[0][0][2].value + \"  \" + self.pieces[1][0][2].value + \"  \" + self.pieces[2][0][2].value + \" |\\n\"\n",
        "        gameState += \"           ---------------------+\\n\\n\"\n",
        "        return gameState\n",
        "    \n",
        "    # Returns a list of all 3 in a rows in the board, used to check if the game is over\n",
        "    def getWinningRuns(self):\n",
        "        runs = []\n",
        "\n",
        "        runs.append([(0,0,0),(0,0,1),(0,0,2)])\n",
        "        runs.append([(0,0,0),(0,1,0),(0,2,0)])\n",
        "        runs.append([(0,0,0),(1,0,0),(2,0,0)])\n",
        "\n",
        "        runs.append([(2,2,0),(1,2,0),(0,2,0)])\n",
        "        runs.append([(2,2,0),(2,1,0),(2,0,0)])\n",
        "        runs.append([(2,2,0),(2,2,1),(2,2,2)])\n",
        "\n",
        "        runs.append([(0,2,2),(0,1,2),(0,0,2)])\n",
        "        runs.append([(0,2,2),(1,2,2),(2,2,2)])\n",
        "        runs.append([(0,2,2),(0,2,1),(0,2,0)])\n",
        "\n",
        "        runs.append([(2,0,2),(2,0,1),(2,0,0)])\n",
        "        runs.append([(2,0,2),(1,0,2),(0,0,2)])\n",
        "        runs.append([(2,0,2),(2,1,2),(2,2,2)])\n",
        "        # Front\n",
        "        runs.append([(0,0,0),(1,0,1),(2,0,2)])\n",
        "        runs.append([(0,0,2),(1,0,1),(2,0,0)])\n",
        "        runs.append([(1,0,0),(1,0,1),(1,0,2)])\n",
        "        runs.append([(0,0,1),(1,0,1),(2,0,1)])\n",
        "        # Top\n",
        "        runs.append([(0,0,0),(1,1,0),(2,2,0)])\n",
        "        runs.append([(0,2,0),(1,1,0),(2,0,0)])\n",
        "        runs.append([(0,1,0),(1,1,0),(2,1,0)])\n",
        "        runs.append([(1,2,0),(1,1,0),(1,0,0)])\n",
        "        # Left\n",
        "        runs.append([(0,0,0),(0,1,1),(0,2,2)])\n",
        "        runs.append([(0,0,2),(0,1,1),(0,2,0)])\n",
        "        runs.append([(0,0,1),(0,1,1),(0,2,1)])\n",
        "        runs.append([(0,1,0),(0,1,1),(0,1,2)])\n",
        "        # Back\n",
        "        runs.append([(0,2,2),(1,2,1),(2,2,0)])\n",
        "        runs.append([(0,2,0),(1,2,1),(2,2,2)])\n",
        "        runs.append([(1,2,0),(1,2,1),(1,2,2)])\n",
        "        runs.append([(0,2,1),(1,2,1),(2,2,1)])\n",
        "        # Right\n",
        "        runs.append([(2,0,2),(2,1,1),(2,2,0)])\n",
        "        runs.append([(2,0,0),(2,1,1),(2,2,2)])\n",
        "        runs.append([(2,0,1),(2,1,1),(2,2,1)])\n",
        "        runs.append([(2,1,0),(2,1,1),(2,1,2)])\n",
        "        # Bottom\n",
        "        runs.append([(2,0,2),(1,1,2),(0,2,2)])\n",
        "        runs.append([(0,0,2),(1,1,2),(2,2,2)])\n",
        "        runs.append([(0,1,2),(1,1,2),(2,1,2)])\n",
        "        runs.append([(1,0,2),(1,1,2),(1,2,2)])\n",
        "        # Corners\n",
        "        runs.append([(0,0,0),(1,1,1),(2,2,2)])\n",
        "        runs.append([(2,0,0),(1,1,1),(0,2,2)])\n",
        "        runs.append([(2,2,0),(1,1,1),(0,0,2)])\n",
        "        runs.append([(0,2,0),(1,1,1),(2,0,2)])\n",
        "        # Edges\n",
        "        runs.append([(1,0,0),(1,1,1),(1,2,2)])\n",
        "        runs.append([(2,1,0),(1,1,1),(0,1,2)])\n",
        "        runs.append([(1,2,0),(1,1,1),(1,0,2)])\n",
        "        runs.append([(0,1,0),(1,1,1),(2,1,2)])\n",
        "        runs.append([(0,0,1),(1,1,1),(2,2,1)])\n",
        "        runs.append([(2,0,1),(1,1,1),(0,2,1)])\n",
        "        # Middles\n",
        "        runs.append([(1,1,0),(1,1,1),(1,1,2)])\n",
        "        runs.append([(1,0,1),(1,1,1),(1,2,1)])\n",
        "        runs.append([(0,1,1),(1,1,1),(2,1,1)])\n",
        "\n",
        "        return runs\n",
        "\n",
        "    # Returns a liist of all valid moves in the current board state\n",
        "    def getPossibleMoves(self):\n",
        "        directions = ['UP','DOWN','LEFT','RIGHT','FRONT','BACK']\n",
        "        moves = []\n",
        "        for x in range(2):\n",
        "          for y in range(2):\n",
        "            for z in range(2):\n",
        "              for dir in directions:\n",
        "                if self.validMove(x,y,z,dir):\n",
        "                  moves.append((x,y,z,dir))\n",
        "        return moves\n",
        "\n",
        "    # Returns the other player color. Red -> White. White -> Red\n",
        "    def otherPlayer(self,player: Piece):\n",
        "        return Piece.RED if player == Piece.WHITE else Piece.WHITE\n",
        "\n",
        "    # Loops through possible moves and returns if a move wins the game, else returns None\n",
        "    def getWinInOne(self,player: Piece):\n",
        "        for (x,y,z,dir) in self.getPossibleMoves():\n",
        "          c = copy.deepcopy(self)\n",
        "          c.move(x,y,z,dir,player)\n",
        "          if c.hasWon(player):\n",
        "            return (x,y,z,dir)\n",
        "        return None\n",
        "\n",
        "    # Loops through possible moves and returns a move which prevents the opponent from winning \n",
        "    # If there are multiple, picks one at random. If none exist returns None\n",
        "    def getDefendingMove(self,player: Piece):\n",
        "        potential_moves = []\n",
        "        for (x,y,z,dir) in self.getPossibleMoves():\n",
        "          c = copy.deepcopy(self)\n",
        "          c.move(x,y,z,dir,player)\n",
        "          if c.getWinInOne(self.otherPlayer(player)) == None:\n",
        "            potential_moves.append((x,y,z,dir))\n",
        "        if potential_moves:\n",
        "          return random.choice(potential_moves)\n",
        "        return None\n",
        "\n",
        "    # Loops through possible moves and for each one examines all possible opponent moves.\n",
        "    # If there are any moves which allow the given player to win after any opponent move, \n",
        "    # return one at random. Otherwise, return None\n",
        "    def getWinInTwo(self,player: Piece):\n",
        "        potential_moves = []\n",
        "        for (x,y,z,dir) in self.getPossibleMoves():\n",
        "          c = copy.deepcopy(self)\n",
        "          c.move(x,y,z,dir,player)\n",
        "          if c.getWinInOne(self.otherPlayer(player)) == None:\n",
        "            winner = True\n",
        "            for (x2,y2,z2,dir2) in c.getPossibleMoves():\n",
        "              c2 = copy.deepcopy(c)\n",
        "              c2.move(x2,y2,z2,dir2,self.otherPlayer(player))\n",
        "              if c2.getWinInOne(player) == None:\n",
        "                winner = False\n",
        "            if winner:\n",
        "              potential_moves.append((x,y,z,dir))\n",
        "        if potential_moves:\n",
        "          return random.choice(potential_moves)\n",
        "        return None\n",
        "\n",
        "    # Returns a random valid move in the given board\n",
        "    def getRandomMove(self,player: Piece):\n",
        "        directions = ['UP','DOWN','LEFT','RIGHT','FRONT','BACK']\n",
        "        x = random.randint(0,2)\n",
        "        y = random.randint(0,2)\n",
        "        z = random.randint(0,2)\n",
        "        dir = random.choice(directions)\n",
        "        while not self.validMove(x,y,z,dir):\n",
        "            x = random.randint(0,2)\n",
        "            y = random.randint(0,2)\n",
        "            z = random.randint(0,2)\n",
        "            dir = random.choice(directions)\n",
        "        return (x,y,z,dir)\n",
        "\n",
        "    # Returns true if the given player has won (all locations in a run of three are equal to the player)\n",
        "    def hasWon(self,player: Piece):\n",
        "        for run in self.winningRuns:\n",
        "            if all(self.pieces[x][y][z] == player for (x,y,z) in run):\n",
        "                return True\n",
        "        return False\n",
        "    \n",
        "    # Returns true if either player has won\n",
        "    def gameOver(self):\n",
        "        return self.hasWon(Piece.RED) or self.hasWon(Piece.WHITE)"
      ]
    },
    {
      "cell_type": "markdown",
      "id": "c90742e7",
      "metadata": {
        "id": "c90742e7"
      },
      "source": [
        "# Random Agent"
      ]
    },
    {
      "cell_type": "code",
      "execution_count": 5,
      "id": "919b0d5d",
      "metadata": {
        "id": "919b0d5d"
      },
      "outputs": [],
      "source": [
        "# Returns a random valid move\n",
        "class RandomAgent:\n",
        "    def __init__(self,player):\n",
        "        self.player = player\n",
        "\n",
        "    def getMove(self, board: Board):\n",
        "        return board.getRandomMove(self.player)"
      ]
    },
    {
      "cell_type": "markdown",
      "id": "FNIKVDWcIZXz",
      "metadata": {
        "id": "FNIKVDWcIZXz"
      },
      "source": [
        "# Easy Agent"
      ]
    },
    {
      "cell_type": "code",
      "execution_count": 6,
      "id": "oiGGigmkIdv_",
      "metadata": {
        "id": "oiGGigmkIdv_"
      },
      "outputs": [],
      "source": [
        "# Returns a winning move if one exists, otherwise picks a random move\n",
        "class EasyAgent:\n",
        "    def __init__(self,player):\n",
        "        self.player = player\n",
        "\n",
        "    def getMove(self, board: Board):\n",
        "        winningMove = board.getWinInOne(self.player)\n",
        "        if winningMove:\n",
        "          return winningMove\n",
        "        else:\n",
        "          return board.getRandomMove(self.player)"
      ]
    },
    {
      "cell_type": "markdown",
      "id": "9JkgzsI3uMcs",
      "metadata": {
        "id": "9JkgzsI3uMcs"
      },
      "source": [
        "# Medium Agent"
      ]
    },
    {
      "cell_type": "code",
      "execution_count": null,
      "id": "0StiPGknuITm",
      "metadata": {
        "id": "0StiPGknuITm"
      },
      "outputs": [],
      "source": [
        "# Returns a winning move if one exists, otherwise a move preventing the opponent from \n",
        "# winning if one exists, otherwise a random move\n",
        "class MediumAgent:\n",
        "    def __init__(self,player):\n",
        "        self.player = player\n",
        "\n",
        "    def getMove(self, board: Board):\n",
        "        winningMove = board.getWinInOne(self.player)\n",
        "        if winningMove:\n",
        "          return winningMove\n",
        "        else:\n",
        "          defendingMove = board.getDefendingMove(self.player)\n",
        "          if defendingMove:\n",
        "            return defendingMove\n",
        "          else:\n",
        "            return board.getRandomMove(self.player)"
      ]
    },
    {
      "cell_type": "markdown",
      "id": "9ho8XxlS13pv",
      "metadata": {
        "id": "9ho8XxlS13pv"
      },
      "source": [
        "# Hard Agent"
      ]
    },
    {
      "cell_type": "code",
      "execution_count": null,
      "id": "krHzapzO16Oc",
      "metadata": {
        "id": "krHzapzO16Oc"
      },
      "outputs": [],
      "source": [
        "# Returns a winning move if one exists, otherwise a move which wins in two turns if one exists, \n",
        "#otherwise a move preventing the opponent from winning, otherwise a random move\n",
        "class HardAgent:\n",
        "    def __init__(self,player):\n",
        "        self.player = player\n",
        "\n",
        "    def getMove(self, board: Board):\n",
        "        winningMove = board.getWinInOne(self.player)\n",
        "        if winningMove:\n",
        "          return winningMove\n",
        "        else:\n",
        "          winInTwo = board.getWinInTwo(self.player)\n",
        "          if winInTwo:\n",
        "            return winInTwo\n",
        "          else:\n",
        "            defendingMove = board.getDefendingMove(self.player)\n",
        "            if defendingMove:\n",
        "              return defendingMove\n",
        "            else:\n",
        "              return board.getRandomMove(self.player)"
      ]
    },
    {
      "cell_type": "markdown",
      "id": "b77944d1",
      "metadata": {
        "id": "b77944d1"
      },
      "source": [
        "# Deep Agent"
      ]
    },
    {
      "cell_type": "code",
      "execution_count": null,
      "id": "90dcf597",
      "metadata": {
        "id": "90dcf597"
      },
      "outputs": [],
      "source": [
        "class DeepAgent:\n",
        "    def __init__(self,player):\n",
        "        self.player = player\n",
        "        model_values_path  = '/content/model_values_new.h5'\n",
        "        self.model = Km.load_model(model_values_path)\n",
        "\n",
        "    def getMove(self, board):\n",
        "        state = board.pieces\n",
        "        moves = self.getPossibleMoves(state)\n",
        "\n",
        "        temp_state_list = []\n",
        "        v = -float('Inf')\n",
        "\n",
        "        temp_state_values = []\n",
        "        for x,y,z,direction in moves:\n",
        "            temp_state = copy.deepcopy(state)\n",
        "            temp_state = self.move(temp_state,x,y,z,direction)\n",
        "            temp_state_value =self.calc_value(temp_state)\n",
        "            temp_state_values.append(temp_state_value)\n",
        "        \n",
        "        optimal_move_index = np.argmax(temp_state_values)\n",
        "        # print(moves[optimal_move_index])\n",
        "        # print(moves)\n",
        "        # print(temp_state_values)\n",
        "        # print(len(moves))\n",
        "        # print(len(temp_state_values))\n",
        "        x,y,z,direction = moves[optimal_move_index]\n",
        "\n",
        "        # new_state = self.move(state,x,y,z,direction,self.player)\n",
        "        return (x,y,z,direction)\n",
        "\n",
        "    def move(self,state,x,y,z,direction):\n",
        "        new_state = copy.deepcopy(state)\n",
        "\n",
        "        if not self.validMove(state,x,y,z,direction):\n",
        "              raise ValueError\n",
        "        else:\n",
        "            if (state[x][y][z] == Piece.EMPTY):\n",
        "                new_state[x][y][z] = self.player\n",
        "            else:\n",
        "                if direction == 'UP':\n",
        "                    if (state[x][y][z-1] == Piece.EMPTY):\n",
        "                        new_state[x][y][z-1] = state[x][y][z]\n",
        "                        new_state[x][y][z] = self.player\n",
        "                    else:\n",
        "                        new_state[x][y][z-2] = state[x][y][z-1]\n",
        "                        new_state[x][y][z-1] = state[x][y][z]\n",
        "                        new_state[x][y][z] = self.player\n",
        "                elif direction ==  'DOWN':\n",
        "                    if (state[x][y][z+1] == Piece.EMPTY):\n",
        "                        new_state[x][y][z+1] = state[x][y][z]\n",
        "                        new_state[x][y][z] = self.player\n",
        "                    else:\n",
        "                        new_state[x][y][z+2] = state[x][y][z+1]\n",
        "                        new_state[x][y][z+1] = state[x][y][z]\n",
        "\n",
        "                        new_state[x][y][z] = self.player\n",
        "                elif direction == \"LEFT\":\n",
        "                    if (state[x-1][y][z] == Piece.EMPTY):\n",
        "                        new_state[x-1][y][z] = state[x][y][z]\n",
        "                        new_state[x][y][z] =self.player\n",
        "                    else:\n",
        "                        new_state[x-2][y][z] = state[x-1][y][z]\n",
        "                        new_state[x-1][y][z] = state[x][y][z]\n",
        "                        new_state[x][y][z] =self.player\n",
        "                elif direction == 'RIGHT':\n",
        "                    if (state[x+1][y][z] == Piece.EMPTY):\n",
        "                        new_state[x+1][y][z] = state[x][y][z]\n",
        "                        new_state[x][y][z] = self.player\n",
        "                    else:\n",
        "                        new_state[x+2][y][z] = state[x+1][y][z]\n",
        "                        new_state[x+1][y][z] = state[x][y][z]\n",
        "                        new_state[x][y][z] = self.player\n",
        "                elif direction == 'FRONT':\n",
        "                    if (state[x][y-1][z] == Piece.EMPTY):\n",
        "                        new_state[x][y-1][z] = state[x][y][z]\n",
        "                        new_state[x][y][z] =self.player\n",
        "                    else:\n",
        "                        new_state[x][y-2][z] = state[x][y-1][z]\n",
        "                        new_state[x][y-1][z] = state[x][y][z]\n",
        "                        new_state[x][y][z] = self.player\n",
        "                elif direction == 'BACK':\n",
        "                    if (state[x][y+1][z] == Piece.EMPTY):\n",
        "                        new_state[x][y+1][z] = state[x][y][z]\n",
        "                        new_state[x][y][z] = self.player\n",
        "                    else:\n",
        "                        new_state[x][y+2][z] = state[x][y+1][z]\n",
        "                        new_state[x][y+1][z] = state[x][y][z]\n",
        "                        new_state[x][y][z] = self.player\n",
        "        return new_state\n",
        "\n",
        "    def getPossibleMoves(self, state):\n",
        "        moves = []\n",
        "        for x in range(0,3):\n",
        "            for y in range(0,3):\n",
        "                for z in range(0,3):\n",
        "                    for direction in directions:\n",
        "                        if self.validMove(state,x,y,z,direction):\n",
        "                            moves.append((x,y,z,direction))\n",
        "        return moves\n",
        "\n",
        "    def validMove(self,state,x,y,z,direction):\n",
        "        if not x in range(3) or not y in range(3) or not z in range(3):\n",
        "            return False\n",
        "        if direction == 'UP':\n",
        "            return (z == 2) and (state[x][y][z] == Piece.EMPTY or state[x][y][z-1] == Piece.EMPTY or state[x][y][z-2] == Piece.EMPTY)\n",
        "        elif direction == 'DOWN':\n",
        "            return (z == 0) and (state[x][y][z] == Piece.EMPTY or state[x][y][z+1] == Piece.EMPTY or state[x][y][z+2] == Piece.EMPTY)\n",
        "        elif direction == 'LEFT':\n",
        "            return (x == 2) and (state[x][y][z] == Piece.EMPTY or state[x-1][y][z] == Piece.EMPTY or state[x-2][y][z] == Piece.EMPTY)\n",
        "        elif direction == 'RIGHT':\n",
        "            return (x == 0) and (state[x][y][z] == Piece.EMPTY or state[x+1][y][z] == Piece.EMPTY or state[x+2][y][z] == Piece.EMPTY)\n",
        "        elif direction == 'FRONT':\n",
        "            return (y == 2) and (state[x][y][z] == Piece.EMPTY or state[x][y-1][z] == Piece.EMPTY or state[x][y-2][z] == Piece.EMPTY)\n",
        "        elif direction == 'BACK':\n",
        "            return (y == 0) and (state[x][y][z] == Piece.EMPTY or state[x][y+1][z] == Piece.EMPTY or state[x][y+2][z] == Piece.EMPTY)\n",
        "        else:\n",
        "            return False \n",
        "\n",
        "    def piece_to_num(self, piece):\n",
        "        \n",
        "        if piece == self.player:\n",
        "            return 1\n",
        "        elif piece == Piece.EMPTY:\n",
        "            return 0\n",
        "        else:\n",
        "            return -1\n",
        "\n",
        "    def state2array(self, state):\n",
        "        state_as_array = []\n",
        "        for i in range(3):\n",
        "            for j in range(3):\n",
        "                for k in range(3):\n",
        "                    state_as_array.append(self.piece_to_num(state[i][j][k]))\n",
        "        return np.array(state_as_array)\n",
        "\n",
        "    def calc_value(self, state):\n",
        "        x_test = self.state2array(state)\n",
        "        # print(x_test)\n",
        "        x_test = tf.reshape(x_test,shape=(1,27))\n",
        "        \n",
        "        # print(x_test)\n",
        "        return self.model.predict(x_test, verbose=0)\n",
        "\n"
      ]
    },
    {
      "cell_type": "markdown",
      "id": "c6e8cf00",
      "metadata": {
        "id": "c6e8cf00"
      },
      "source": [
        "# Game Player"
      ]
    },
    {
      "cell_type": "code",
      "execution_count": null,
      "id": "yQkDHXTzCgTq",
      "metadata": {
        "id": "yQkDHXTzCgTq"
      },
      "outputs": [],
      "source": [
        "# Takes two types of agents and calls their 'getMove' methods back and forth until \n",
        "# one player wins, then returns the result (in practice, draws never really happen)\n",
        "class GamePlayer:\n",
        "    def __init__(self,player1,player2):\n",
        "      self.player1 = player1\n",
        "      self.player2 = player2\n",
        "      self.board = Board()\n",
        "\n",
        "    def playGame(self):\n",
        "       self.board = Board()\n",
        "       while not self.board.gameOver:\n",
        "          # Player 1 moves\n",
        "          (x1,y1,z1,dir1) = self.player1.getMove(self.board)\n",
        "          self.board.move(x1,y1,z1,dir1,self.player1.player)\n",
        "          # print(self.board.getGameState())\n",
        "          if self.board.hasWon(self.player1.player):\n",
        "             return 'player 1 won'\n",
        "\n",
        "          # Player 2 moves\n",
        "          (x2,y2,z2,dir2) = self.player2.getMove(self.board)\n",
        "          self.board.move(x2,y2,z2,dir2,self.player2.player)\n",
        "          \n",
        "          # print(self.board.getGameState())\n",
        "          if self.board.hasWon(self.player2.player):\n",
        "             return 'player 2 won'\n",
        "       return 'tie game'"
      ]
    },
    {
      "cell_type": "code",
      "execution_count": null,
      "id": "f59384fd",
      "metadata": {
        "id": "f59384fd"
      },
      "outputs": [],
      "source": [
        "directions = ['UP','DOWN','LEFT','RIGHT','FRONT','BACK']"
      ]
    },
    {
      "cell_type": "markdown",
      "id": "SkczFa21CDxa",
      "metadata": {
        "id": "SkczFa21CDxa"
      },
      "source": [
        "# Experiments"
      ]
    },
    {
      "cell_type": "markdown",
      "id": "FEM8JacQCUr2",
      "metadata": {
        "id": "FEM8JacQCUr2"
      },
      "source": [
        "### DeepAgent vs Easy Agent"
      ]
    },
    {
      "cell_type": "code",
      "execution_count": null,
      "id": "SFqkPN76DeAA",
      "metadata": {
        "id": "SFqkPN76DeAA"
      },
      "outputs": [],
      "source": [
        "import pandas as pd"
      ]
    },
    {
      "cell_type": "code",
      "execution_count": null,
      "id": "jIJ15wlNC80f",
      "metadata": {
        "id": "jIJ15wlNC80f"
      },
      "outputs": [],
      "source": [
        "results = pd.DataFrame(columns=[\"Player1\",\"Player2\", \"Games_Won_by_Player1\", \"Games_Lost_by_Player2\"])"
      ]
    },
    {
      "cell_type": "code",
      "execution_count": null,
      "id": "g2LuVj5eEYVl",
      "metadata": {
        "id": "g2LuVj5eEYVl"
      },
      "outputs": [],
      "source": [
        "from tqdm import tqdm"
      ]
    },
    {
      "cell_type": "code",
      "execution_count": null,
      "id": "YaLQyOd7BT9s",
      "metadata": {
        "colab": {
          "base_uri": "https://localhost:8080/"
        },
        "id": "YaLQyOd7BT9s",
        "outputId": "a8360175-2cdb-4f6a-dee0-c420c78a7db4"
      },
      "outputs": [
        {
          "name": "stderr",
          "output_type": "stream",
          "text": [
            "100%|██████████| 20/20 [03:45<00:00, 11.25s/it]\n"
          ]
        },
        {
          "name": "stdout",
          "output_type": "stream",
          "text": [
            "DeepAgent player wins 20.0% of the time!\n"
          ]
        },
        {
          "name": "stderr",
          "output_type": "stream",
          "text": [
            "100%|██████████| 20/20 [04:15<00:00, 12.75s/it]"
          ]
        },
        {
          "name": "stdout",
          "output_type": "stream",
          "text": [
            "DeepAgent player wins 30.0% of the time!\n"
          ]
        },
        {
          "name": "stderr",
          "output_type": "stream",
          "text": [
            "\n"
          ]
        }
      ],
      "source": [
        "game = GamePlayer(EasyAgent(Piece.WHITE),DeepAgent(Piece.BLACK))\n",
        "deep_agent_wins_second = 0\n",
        "games_to_play = 20\n",
        "for i in tqdm(range(games_to_play)):\n",
        "  winner = game.playGame()\n",
        "  # print(\"deep agent didn't win\")\n",
        "  if winner == 'player 2 won':\n",
        "    # print(\"deep agent won\")\n",
        "    deep_agent_wins_second += 1\n",
        "print(f'DeepAgent player wins {deep_agent_wins_second * 100 / games_to_play}% of the time!')\n",
        "game = GamePlayer(DeepAgent(Piece.WHITE),EasyAgent(Piece.BLACK))\n",
        "deep_agent_wins_first = 0\n",
        "games_to_play = 20\n",
        "for i in tqdm(range(games_to_play)):\n",
        "  winner = game.playGame()\n",
        "  # print(\"deep agent didn't win\")\n",
        "  if winner == 'player 1 won':\n",
        "    # print(\"deep agent won\")\n",
        "    deep_agent_wins_first += 1\n",
        "print(f'DeepAgent player wins {deep_agent_wins_first * 100 / games_to_play}% of the time!')"
      ]
    },
    {
      "cell_type": "code",
      "execution_count": null,
      "id": "pm1sKRtzG7mD",
      "metadata": {
        "id": "pm1sKRtzG7mD"
      },
      "outputs": [],
      "source": [
        "results.loc[0] = [\"DeepAgent\", \"EasyAgent\", deep_agent_wins_first,20-deep_agent_wins_first]"
      ]
    },
    {
      "cell_type": "code",
      "execution_count": null,
      "id": "-dfWGOEpc5cM",
      "metadata": {
        "id": "-dfWGOEpc5cM"
      },
      "outputs": [],
      "source": [
        "results.loc[1] = [\"EasyAgent\", \"DeepAgent\", 20-deep_agent_wins_second,deep_agent_wins_second]"
      ]
    },
    {
      "cell_type": "code",
      "execution_count": null,
      "id": "1xZ8GbdfHLPV",
      "metadata": {
        "colab": {
          "base_uri": "https://localhost:8080/",
          "height": 111
        },
        "id": "1xZ8GbdfHLPV",
        "outputId": "5b2f5062-b886-40e9-e196-29c7bc96c350"
      },
      "outputs": [
        {
          "data": {
            "text/html": [
              "\n",
              "  <div id=\"df-1f965244-bfb4-406e-9058-b4717181b818\">\n",
              "    <div class=\"colab-df-container\">\n",
              "      <div>\n",
              "<style scoped>\n",
              "    .dataframe tbody tr th:only-of-type {\n",
              "        vertical-align: middle;\n",
              "    }\n",
              "\n",
              "    .dataframe tbody tr th {\n",
              "        vertical-align: top;\n",
              "    }\n",
              "\n",
              "    .dataframe thead th {\n",
              "        text-align: right;\n",
              "    }\n",
              "</style>\n",
              "<table border=\"1\" class=\"dataframe\">\n",
              "  <thead>\n",
              "    <tr style=\"text-align: right;\">\n",
              "      <th></th>\n",
              "      <th>Player1</th>\n",
              "      <th>Player2</th>\n",
              "      <th>Games_Won_by_Player1</th>\n",
              "      <th>Games_Lost_by_Player2</th>\n",
              "    </tr>\n",
              "  </thead>\n",
              "  <tbody>\n",
              "    <tr>\n",
              "      <th>0</th>\n",
              "      <td>DeepAgent</td>\n",
              "      <td>EasyAgent</td>\n",
              "      <td>6</td>\n",
              "      <td>14</td>\n",
              "    </tr>\n",
              "    <tr>\n",
              "      <th>1</th>\n",
              "      <td>EasyAgent</td>\n",
              "      <td>DeepAgent</td>\n",
              "      <td>16</td>\n",
              "      <td>4</td>\n",
              "    </tr>\n",
              "  </tbody>\n",
              "</table>\n",
              "</div>\n",
              "      <button class=\"colab-df-convert\" onclick=\"convertToInteractive('df-1f965244-bfb4-406e-9058-b4717181b818')\"\n",
              "              title=\"Convert this dataframe to an interactive table.\"\n",
              "              style=\"display:none;\">\n",
              "        \n",
              "  <svg xmlns=\"http://www.w3.org/2000/svg\" height=\"24px\"viewBox=\"0 0 24 24\"\n",
              "       width=\"24px\">\n",
              "    <path d=\"M0 0h24v24H0V0z\" fill=\"none\"/>\n",
              "    <path d=\"M18.56 5.44l.94 2.06.94-2.06 2.06-.94-2.06-.94-.94-2.06-.94 2.06-2.06.94zm-11 1L8.5 8.5l.94-2.06 2.06-.94-2.06-.94L8.5 2.5l-.94 2.06-2.06.94zm10 10l.94 2.06.94-2.06 2.06-.94-2.06-.94-.94-2.06-.94 2.06-2.06.94z\"/><path d=\"M17.41 7.96l-1.37-1.37c-.4-.4-.92-.59-1.43-.59-.52 0-1.04.2-1.43.59L10.3 9.45l-7.72 7.72c-.78.78-.78 2.05 0 2.83L4 21.41c.39.39.9.59 1.41.59.51 0 1.02-.2 1.41-.59l7.78-7.78 2.81-2.81c.8-.78.8-2.07 0-2.86zM5.41 20L4 18.59l7.72-7.72 1.47 1.35L5.41 20z\"/>\n",
              "  </svg>\n",
              "      </button>\n",
              "      \n",
              "  <style>\n",
              "    .colab-df-container {\n",
              "      display:flex;\n",
              "      flex-wrap:wrap;\n",
              "      gap: 12px;\n",
              "    }\n",
              "\n",
              "    .colab-df-convert {\n",
              "      background-color: #E8F0FE;\n",
              "      border: none;\n",
              "      border-radius: 50%;\n",
              "      cursor: pointer;\n",
              "      display: none;\n",
              "      fill: #1967D2;\n",
              "      height: 32px;\n",
              "      padding: 0 0 0 0;\n",
              "      width: 32px;\n",
              "    }\n",
              "\n",
              "    .colab-df-convert:hover {\n",
              "      background-color: #E2EBFA;\n",
              "      box-shadow: 0px 1px 2px rgba(60, 64, 67, 0.3), 0px 1px 3px 1px rgba(60, 64, 67, 0.15);\n",
              "      fill: #174EA6;\n",
              "    }\n",
              "\n",
              "    [theme=dark] .colab-df-convert {\n",
              "      background-color: #3B4455;\n",
              "      fill: #D2E3FC;\n",
              "    }\n",
              "\n",
              "    [theme=dark] .colab-df-convert:hover {\n",
              "      background-color: #434B5C;\n",
              "      box-shadow: 0px 1px 3px 1px rgba(0, 0, 0, 0.15);\n",
              "      filter: drop-shadow(0px 1px 2px rgba(0, 0, 0, 0.3));\n",
              "      fill: #FFFFFF;\n",
              "    }\n",
              "  </style>\n",
              "\n",
              "      <script>\n",
              "        const buttonEl =\n",
              "          document.querySelector('#df-1f965244-bfb4-406e-9058-b4717181b818 button.colab-df-convert');\n",
              "        buttonEl.style.display =\n",
              "          google.colab.kernel.accessAllowed ? 'block' : 'none';\n",
              "\n",
              "        async function convertToInteractive(key) {\n",
              "          const element = document.querySelector('#df-1f965244-bfb4-406e-9058-b4717181b818');\n",
              "          const dataTable =\n",
              "            await google.colab.kernel.invokeFunction('convertToInteractive',\n",
              "                                                     [key], {});\n",
              "          if (!dataTable) return;\n",
              "\n",
              "          const docLinkHtml = 'Like what you see? Visit the ' +\n",
              "            '<a target=\"_blank\" href=https://colab.research.google.com/notebooks/data_table.ipynb>data table notebook</a>'\n",
              "            + ' to learn more about interactive tables.';\n",
              "          element.innerHTML = '';\n",
              "          dataTable['output_type'] = 'display_data';\n",
              "          await google.colab.output.renderOutput(dataTable, element);\n",
              "          const docLink = document.createElement('div');\n",
              "          docLink.innerHTML = docLinkHtml;\n",
              "          element.appendChild(docLink);\n",
              "        }\n",
              "      </script>\n",
              "    </div>\n",
              "  </div>\n",
              "  "
            ],
            "text/plain": [
              "     Player1    Player2  Games_Won_by_Player1  Games_Lost_by_Player2\n",
              "0  DeepAgent  EasyAgent                     6                     14\n",
              "1  EasyAgent  DeepAgent                    16                      4"
            ]
          },
          "execution_count": 140,
          "metadata": {},
          "output_type": "execute_result"
        }
      ],
      "source": [
        "results.head()"
      ]
    },
    {
      "cell_type": "markdown",
      "id": "FaOdmNAxYKwi",
      "metadata": {
        "id": "FaOdmNAxYKwi"
      },
      "source": [
        "### DeepAgent vs Medium Agent"
      ]
    },
    {
      "cell_type": "code",
      "execution_count": null,
      "id": "RLUQot4VYKwk",
      "metadata": {
        "colab": {
          "base_uri": "https://localhost:8080/"
        },
        "id": "RLUQot4VYKwk",
        "outputId": "0ba3523d-f32f-4ba7-dda7-73833b4be806"
      },
      "outputs": [
        {
          "name": "stderr",
          "output_type": "stream",
          "text": [
            "100%|██████████| 20/20 [02:48<00:00,  8.43s/it]\n"
          ]
        },
        {
          "name": "stdout",
          "output_type": "stream",
          "text": [
            "DeepAgent player wins 5.0% of the time!\n"
          ]
        },
        {
          "name": "stderr",
          "output_type": "stream",
          "text": [
            "100%|██████████| 20/20 [03:54<00:00, 11.74s/it]"
          ]
        },
        {
          "name": "stdout",
          "output_type": "stream",
          "text": [
            "DeepAgent player wins 10.0% of the time!\n"
          ]
        },
        {
          "name": "stderr",
          "output_type": "stream",
          "text": [
            "\n"
          ]
        }
      ],
      "source": [
        "game = GamePlayer(MediumAgent(Piece.WHITE),DeepAgent(Piece.BLACK))\n",
        "deep_agent_wins_second = 0\n",
        "games_to_play = 20\n",
        "for i in tqdm(range(games_to_play)):\n",
        "  winner = game.playGame()\n",
        "  # print(\"deep agent didn't win\")\n",
        "  if winner == 'player 2 won':\n",
        "    # print(\"deep agent won\")\n",
        "    deep_agent_wins_second += 1\n",
        "print(f'DeepAgent player wins {deep_agent_wins_second * 100 / games_to_play}% of the time!')\n",
        "game = GamePlayer(DeepAgent(Piece.WHITE),MediumAgent(Piece.BLACK))\n",
        "deep_agent_wins_first = 0\n",
        "games_to_play = 20\n",
        "for i in tqdm(range(games_to_play)):\n",
        "  winner = game.playGame()\n",
        "  # print(\"deep agent didn't win\")\n",
        "  if winner == 'player 1 won':\n",
        "    # print(\"deep agent won\")\n",
        "    deep_agent_wins_first += 1\n",
        "print(f'DeepAgent player wins {deep_agent_wins_first * 100 / games_to_play}% of the time!')"
      ]
    },
    {
      "cell_type": "code",
      "execution_count": null,
      "id": "RNfRo8ajYKwl",
      "metadata": {
        "id": "RNfRo8ajYKwl"
      },
      "outputs": [],
      "source": [
        "results.loc[2] = [\"MediumAgent\", deep_agent_wins_first,20-deep_agent_wins_first]"
      ]
    },
    {
      "cell_type": "code",
      "execution_count": null,
      "id": "QovQgSohd8Ex",
      "metadata": {
        "id": "QovQgSohd8Ex"
      },
      "outputs": [],
      "source": [
        "results.loc[3] = [\"MediumAgent\", 20-deep_agent_wins_second,deep_agent_wins_second]"
      ]
    },
    {
      "cell_type": "code",
      "execution_count": null,
      "id": "lX2UEHajYKwl",
      "metadata": {
        "colab": {
          "base_uri": "https://localhost:8080/",
          "height": 173
        },
        "id": "lX2UEHajYKwl",
        "outputId": "66ee9692-379b-4caf-c1ec-cfe9e3ac2e7e"
      },
      "outputs": [
        {
          "data": {
            "text/html": [
              "\n",
              "  <div id=\"df-c8e6384f-4689-4ebd-823a-918623a66d5a\">\n",
              "    <div class=\"colab-df-container\">\n",
              "      <div>\n",
              "<style scoped>\n",
              "    .dataframe tbody tr th:only-of-type {\n",
              "        vertical-align: middle;\n",
              "    }\n",
              "\n",
              "    .dataframe tbody tr th {\n",
              "        vertical-align: top;\n",
              "    }\n",
              "\n",
              "    .dataframe thead th {\n",
              "        text-align: right;\n",
              "    }\n",
              "</style>\n",
              "<table border=\"1\" class=\"dataframe\">\n",
              "  <thead>\n",
              "    <tr style=\"text-align: right;\">\n",
              "      <th></th>\n",
              "      <th>Player1</th>\n",
              "      <th>Player2</th>\n",
              "      <th>Games_Won_by_Player1</th>\n",
              "      <th>Games_Lost_by_Player2</th>\n",
              "    </tr>\n",
              "  </thead>\n",
              "  <tbody>\n",
              "    <tr>\n",
              "      <th>0</th>\n",
              "      <td>DeepAgent</td>\n",
              "      <td>EasyAgent</td>\n",
              "      <td>6</td>\n",
              "      <td>14</td>\n",
              "    </tr>\n",
              "    <tr>\n",
              "      <th>1</th>\n",
              "      <td>EasyAgent</td>\n",
              "      <td>DeepAgent</td>\n",
              "      <td>16</td>\n",
              "      <td>4</td>\n",
              "    </tr>\n",
              "    <tr>\n",
              "      <th>2</th>\n",
              "      <td>DeepAgent</td>\n",
              "      <td>EasyAgent</td>\n",
              "      <td>3</td>\n",
              "      <td>17</td>\n",
              "    </tr>\n",
              "    <tr>\n",
              "      <th>3</th>\n",
              "      <td>EasyAgent</td>\n",
              "      <td>DeepAgent</td>\n",
              "      <td>20</td>\n",
              "      <td>0</td>\n",
              "    </tr>\n",
              "  </tbody>\n",
              "</table>\n",
              "</div>\n",
              "      <button class=\"colab-df-convert\" onclick=\"convertToInteractive('df-c8e6384f-4689-4ebd-823a-918623a66d5a')\"\n",
              "              title=\"Convert this dataframe to an interactive table.\"\n",
              "              style=\"display:none;\">\n",
              "        \n",
              "  <svg xmlns=\"http://www.w3.org/2000/svg\" height=\"24px\"viewBox=\"0 0 24 24\"\n",
              "       width=\"24px\">\n",
              "    <path d=\"M0 0h24v24H0V0z\" fill=\"none\"/>\n",
              "    <path d=\"M18.56 5.44l.94 2.06.94-2.06 2.06-.94-2.06-.94-.94-2.06-.94 2.06-2.06.94zm-11 1L8.5 8.5l.94-2.06 2.06-.94-2.06-.94L8.5 2.5l-.94 2.06-2.06.94zm10 10l.94 2.06.94-2.06 2.06-.94-2.06-.94-.94-2.06-.94 2.06-2.06.94z\"/><path d=\"M17.41 7.96l-1.37-1.37c-.4-.4-.92-.59-1.43-.59-.52 0-1.04.2-1.43.59L10.3 9.45l-7.72 7.72c-.78.78-.78 2.05 0 2.83L4 21.41c.39.39.9.59 1.41.59.51 0 1.02-.2 1.41-.59l7.78-7.78 2.81-2.81c.8-.78.8-2.07 0-2.86zM5.41 20L4 18.59l7.72-7.72 1.47 1.35L5.41 20z\"/>\n",
              "  </svg>\n",
              "      </button>\n",
              "      \n",
              "  <style>\n",
              "    .colab-df-container {\n",
              "      display:flex;\n",
              "      flex-wrap:wrap;\n",
              "      gap: 12px;\n",
              "    }\n",
              "\n",
              "    .colab-df-convert {\n",
              "      background-color: #E8F0FE;\n",
              "      border: none;\n",
              "      border-radius: 50%;\n",
              "      cursor: pointer;\n",
              "      display: none;\n",
              "      fill: #1967D2;\n",
              "      height: 32px;\n",
              "      padding: 0 0 0 0;\n",
              "      width: 32px;\n",
              "    }\n",
              "\n",
              "    .colab-df-convert:hover {\n",
              "      background-color: #E2EBFA;\n",
              "      box-shadow: 0px 1px 2px rgba(60, 64, 67, 0.3), 0px 1px 3px 1px rgba(60, 64, 67, 0.15);\n",
              "      fill: #174EA6;\n",
              "    }\n",
              "\n",
              "    [theme=dark] .colab-df-convert {\n",
              "      background-color: #3B4455;\n",
              "      fill: #D2E3FC;\n",
              "    }\n",
              "\n",
              "    [theme=dark] .colab-df-convert:hover {\n",
              "      background-color: #434B5C;\n",
              "      box-shadow: 0px 1px 3px 1px rgba(0, 0, 0, 0.15);\n",
              "      filter: drop-shadow(0px 1px 2px rgba(0, 0, 0, 0.3));\n",
              "      fill: #FFFFFF;\n",
              "    }\n",
              "  </style>\n",
              "\n",
              "      <script>\n",
              "        const buttonEl =\n",
              "          document.querySelector('#df-c8e6384f-4689-4ebd-823a-918623a66d5a button.colab-df-convert');\n",
              "        buttonEl.style.display =\n",
              "          google.colab.kernel.accessAllowed ? 'block' : 'none';\n",
              "\n",
              "        async function convertToInteractive(key) {\n",
              "          const element = document.querySelector('#df-c8e6384f-4689-4ebd-823a-918623a66d5a');\n",
              "          const dataTable =\n",
              "            await google.colab.kernel.invokeFunction('convertToInteractive',\n",
              "                                                     [key], {});\n",
              "          if (!dataTable) return;\n",
              "\n",
              "          const docLinkHtml = 'Like what you see? Visit the ' +\n",
              "            '<a target=\"_blank\" href=https://colab.research.google.com/notebooks/data_table.ipynb>data table notebook</a>'\n",
              "            + ' to learn more about interactive tables.';\n",
              "          element.innerHTML = '';\n",
              "          dataTable['output_type'] = 'display_data';\n",
              "          await google.colab.output.renderOutput(dataTable, element);\n",
              "          const docLink = document.createElement('div');\n",
              "          docLink.innerHTML = docLinkHtml;\n",
              "          element.appendChild(docLink);\n",
              "        }\n",
              "      </script>\n",
              "    </div>\n",
              "  </div>\n",
              "  "
            ],
            "text/plain": [
              "     Player1    Player2  Games_Won_by_Player1  Games_Lost_by_Player2\n",
              "0  DeepAgent  EasyAgent                     6                     14\n",
              "1  EasyAgent  DeepAgent                    16                      4\n",
              "2  DeepAgent  EasyAgent                     3                     17\n",
              "3  EasyAgent  DeepAgent                    20                      0"
            ]
          },
          "execution_count": 143,
          "metadata": {},
          "output_type": "execute_result"
        }
      ],
      "source": [
        "results.head()"
      ]
    },
    {
      "cell_type": "markdown",
      "id": "jGfyexH0YZG6",
      "metadata": {
        "id": "jGfyexH0YZG6"
      },
      "source": [
        "### DeepAgent vs Hard Agent"
      ]
    },
    {
      "cell_type": "code",
      "execution_count": null,
      "id": "0TaWljY6YZHC",
      "metadata": {
        "id": "0TaWljY6YZHC"
      },
      "outputs": [],
      "source": [
        "results = pd.DataFrame(columns=[\"Opponent\",\"Games_Won_Going_First\", \"Games_Lost_Going_First\", \"Games_Won_Going_Second\",\"Games_Lost_Going_Second\"])"
      ]
    },
    {
      "cell_type": "code",
      "execution_count": null,
      "id": "C1AYTNKFYZHD",
      "metadata": {
        "id": "C1AYTNKFYZHD"
      },
      "outputs": [],
      "source": [
        "from tqdm import tqdm"
      ]
    },
    {
      "cell_type": "code",
      "execution_count": null,
      "id": "-S8CD9ucYZHD",
      "metadata": {
        "colab": {
          "base_uri": "https://localhost:8080/"
        },
        "id": "-S8CD9ucYZHD",
        "outputId": "3f836012-106b-449e-bf50-9a70eeee0777"
      },
      "outputs": [
        {
          "name": "stderr",
          "output_type": "stream",
          "text": [
            "100%|██████████| 20/20 [03:16<00:00,  9.83s/it]\n"
          ]
        },
        {
          "name": "stdout",
          "output_type": "stream",
          "text": [
            "DeepAgent player wins 0.0% of the time!\n"
          ]
        },
        {
          "name": "stderr",
          "output_type": "stream",
          "text": [
            "100%|██████████| 20/20 [04:25<00:00, 13.26s/it]"
          ]
        },
        {
          "name": "stdout",
          "output_type": "stream",
          "text": [
            "DeepAgent player wins 15.0% of the time!\n"
          ]
        },
        {
          "name": "stderr",
          "output_type": "stream",
          "text": [
            "\n"
          ]
        }
      ],
      "source": [
        "game = GamePlayer(HardAgent(Piece.WHITE),DeepAgent(Piece.BLACK))\n",
        "deep_agent_wins_second = 0\n",
        "games_to_play = 20\n",
        "for i in tqdm(range(games_to_play)):\n",
        "  winner = game.playGame()\n",
        "  # print(\"deep agent didn't win\")\n",
        "  if winner == 'player 2 won':\n",
        "    # print(\"deep agent won\")\n",
        "    deep_agent_wins_second += 1\n",
        "print(f'DeepAgent player wins {deep_agent_wins_second * 100 / games_to_play}% of the time!')\n",
        "game = GamePlayer(DeepAgent(Piece.WHITE),HardAgent(Piece.BLACK))\n",
        "deep_agent_wins_first = 0\n",
        "games_to_play = 20\n",
        "for i in tqdm(range(games_to_play)):\n",
        "  winner = game.playGame()\n",
        "  # print(\"deep agent didn't win\")\n",
        "  if winner == 'player 1 won':\n",
        "    # print(\"deep agent won\")\n",
        "    deep_agent_wins_first += 1\n",
        "print(f'DeepAgent player wins {deep_agent_wins_first * 100 / games_to_play}% of the time!')"
      ]
    },
    {
      "cell_type": "code",
      "execution_count": null,
      "id": "TPg4_Y-OYZHE",
      "metadata": {
        "id": "TPg4_Y-OYZHE"
      },
      "outputs": [],
      "source": [
        "results.loc[4] = [\"DeepAgent\", \"HardAgent\", deep_agent_wins_first,20-deep_agent_wins_first]"
      ]
    },
    {
      "cell_type": "code",
      "execution_count": null,
      "id": "xgC9aIxudlD4",
      "metadata": {
        "id": "xgC9aIxudlD4"
      },
      "outputs": [],
      "source": [
        "results.loc[5] = [\"DeepAgent\", \"HardAgent\", 20-deep_agent_wins_first,deep_agent_wins_first]"
      ]
    },
    {
      "cell_type": "code",
      "execution_count": null,
      "id": "rgU1IkHZYZHF",
      "metadata": {
        "colab": {
          "base_uri": "https://localhost:8080/",
          "height": 204
        },
        "id": "rgU1IkHZYZHF",
        "outputId": "410d6041-82f6-4174-f9bc-f12459d579f2"
      },
      "outputs": [
        {
          "data": {
            "text/html": [
              "\n",
              "  <div id=\"df-19f8a7b4-51e2-40a7-96a3-5e86270aa838\">\n",
              "    <div class=\"colab-df-container\">\n",
              "      <div>\n",
              "<style scoped>\n",
              "    .dataframe tbody tr th:only-of-type {\n",
              "        vertical-align: middle;\n",
              "    }\n",
              "\n",
              "    .dataframe tbody tr th {\n",
              "        vertical-align: top;\n",
              "    }\n",
              "\n",
              "    .dataframe thead th {\n",
              "        text-align: right;\n",
              "    }\n",
              "</style>\n",
              "<table border=\"1\" class=\"dataframe\">\n",
              "  <thead>\n",
              "    <tr style=\"text-align: right;\">\n",
              "      <th></th>\n",
              "      <th>Player1</th>\n",
              "      <th>Player2</th>\n",
              "      <th>Games_Won_by_Player1</th>\n",
              "      <th>Games_Lost_by_Player2</th>\n",
              "    </tr>\n",
              "  </thead>\n",
              "  <tbody>\n",
              "    <tr>\n",
              "      <th>0</th>\n",
              "      <td>DeepAgent</td>\n",
              "      <td>EasyAgent</td>\n",
              "      <td>6</td>\n",
              "      <td>14</td>\n",
              "    </tr>\n",
              "    <tr>\n",
              "      <th>1</th>\n",
              "      <td>EasyAgent</td>\n",
              "      <td>DeepAgent</td>\n",
              "      <td>16</td>\n",
              "      <td>4</td>\n",
              "    </tr>\n",
              "    <tr>\n",
              "      <th>2</th>\n",
              "      <td>DeepAgent</td>\n",
              "      <td>EasyAgent</td>\n",
              "      <td>3</td>\n",
              "      <td>17</td>\n",
              "    </tr>\n",
              "    <tr>\n",
              "      <th>3</th>\n",
              "      <td>EasyAgent</td>\n",
              "      <td>DeepAgent</td>\n",
              "      <td>20</td>\n",
              "      <td>0</td>\n",
              "    </tr>\n",
              "    <tr>\n",
              "      <th>4</th>\n",
              "      <td>DeepAgent</td>\n",
              "      <td>EasyAgent</td>\n",
              "      <td>3</td>\n",
              "      <td>17</td>\n",
              "    </tr>\n",
              "  </tbody>\n",
              "</table>\n",
              "</div>\n",
              "      <button class=\"colab-df-convert\" onclick=\"convertToInteractive('df-19f8a7b4-51e2-40a7-96a3-5e86270aa838')\"\n",
              "              title=\"Convert this dataframe to an interactive table.\"\n",
              "              style=\"display:none;\">\n",
              "        \n",
              "  <svg xmlns=\"http://www.w3.org/2000/svg\" height=\"24px\"viewBox=\"0 0 24 24\"\n",
              "       width=\"24px\">\n",
              "    <path d=\"M0 0h24v24H0V0z\" fill=\"none\"/>\n",
              "    <path d=\"M18.56 5.44l.94 2.06.94-2.06 2.06-.94-2.06-.94-.94-2.06-.94 2.06-2.06.94zm-11 1L8.5 8.5l.94-2.06 2.06-.94-2.06-.94L8.5 2.5l-.94 2.06-2.06.94zm10 10l.94 2.06.94-2.06 2.06-.94-2.06-.94-.94-2.06-.94 2.06-2.06.94z\"/><path d=\"M17.41 7.96l-1.37-1.37c-.4-.4-.92-.59-1.43-.59-.52 0-1.04.2-1.43.59L10.3 9.45l-7.72 7.72c-.78.78-.78 2.05 0 2.83L4 21.41c.39.39.9.59 1.41.59.51 0 1.02-.2 1.41-.59l7.78-7.78 2.81-2.81c.8-.78.8-2.07 0-2.86zM5.41 20L4 18.59l7.72-7.72 1.47 1.35L5.41 20z\"/>\n",
              "  </svg>\n",
              "      </button>\n",
              "      \n",
              "  <style>\n",
              "    .colab-df-container {\n",
              "      display:flex;\n",
              "      flex-wrap:wrap;\n",
              "      gap: 12px;\n",
              "    }\n",
              "\n",
              "    .colab-df-convert {\n",
              "      background-color: #E8F0FE;\n",
              "      border: none;\n",
              "      border-radius: 50%;\n",
              "      cursor: pointer;\n",
              "      display: none;\n",
              "      fill: #1967D2;\n",
              "      height: 32px;\n",
              "      padding: 0 0 0 0;\n",
              "      width: 32px;\n",
              "    }\n",
              "\n",
              "    .colab-df-convert:hover {\n",
              "      background-color: #E2EBFA;\n",
              "      box-shadow: 0px 1px 2px rgba(60, 64, 67, 0.3), 0px 1px 3px 1px rgba(60, 64, 67, 0.15);\n",
              "      fill: #174EA6;\n",
              "    }\n",
              "\n",
              "    [theme=dark] .colab-df-convert {\n",
              "      background-color: #3B4455;\n",
              "      fill: #D2E3FC;\n",
              "    }\n",
              "\n",
              "    [theme=dark] .colab-df-convert:hover {\n",
              "      background-color: #434B5C;\n",
              "      box-shadow: 0px 1px 3px 1px rgba(0, 0, 0, 0.15);\n",
              "      filter: drop-shadow(0px 1px 2px rgba(0, 0, 0, 0.3));\n",
              "      fill: #FFFFFF;\n",
              "    }\n",
              "  </style>\n",
              "\n",
              "      <script>\n",
              "        const buttonEl =\n",
              "          document.querySelector('#df-19f8a7b4-51e2-40a7-96a3-5e86270aa838 button.colab-df-convert');\n",
              "        buttonEl.style.display =\n",
              "          google.colab.kernel.accessAllowed ? 'block' : 'none';\n",
              "\n",
              "        async function convertToInteractive(key) {\n",
              "          const element = document.querySelector('#df-19f8a7b4-51e2-40a7-96a3-5e86270aa838');\n",
              "          const dataTable =\n",
              "            await google.colab.kernel.invokeFunction('convertToInteractive',\n",
              "                                                     [key], {});\n",
              "          if (!dataTable) return;\n",
              "\n",
              "          const docLinkHtml = 'Like what you see? Visit the ' +\n",
              "            '<a target=\"_blank\" href=https://colab.research.google.com/notebooks/data_table.ipynb>data table notebook</a>'\n",
              "            + ' to learn more about interactive tables.';\n",
              "          element.innerHTML = '';\n",
              "          dataTable['output_type'] = 'display_data';\n",
              "          await google.colab.output.renderOutput(dataTable, element);\n",
              "          const docLink = document.createElement('div');\n",
              "          docLink.innerHTML = docLinkHtml;\n",
              "          element.appendChild(docLink);\n",
              "        }\n",
              "      </script>\n",
              "    </div>\n",
              "  </div>\n",
              "  "
            ],
            "text/plain": [
              "     Player1    Player2  Games_Won_by_Player1  Games_Lost_by_Player2\n",
              "0  DeepAgent  EasyAgent                     6                     14\n",
              "1  EasyAgent  DeepAgent                    16                      4\n",
              "2  DeepAgent  EasyAgent                     3                     17\n",
              "3  EasyAgent  DeepAgent                    20                      0\n",
              "4  DeepAgent  EasyAgent                     3                     17"
            ]
          },
          "execution_count": 146,
          "metadata": {},
          "output_type": "execute_result"
        }
      ],
      "source": [
        "results.head()"
      ]
    },
    {
      "cell_type": "markdown",
      "id": "ba8e2407",
      "metadata": {
        "id": "ba8e2407"
      },
      "source": [
        "## Easy vs Medium Agent"
      ]
    },
    {
      "cell_type": "code",
      "execution_count": null,
      "id": "ezF6hDE1eGg4",
      "metadata": {
        "colab": {
          "base_uri": "https://localhost:8080/"
        },
        "id": "ezF6hDE1eGg4",
        "outputId": "622228be-5d71-4366-b676-1d4de7e1985c"
      },
      "outputs": [
        {
          "name": "stderr",
          "output_type": "stream",
          "text": [
            "100%|██████████| 20/20 [00:04<00:00,  4.72it/s]\n"
          ]
        },
        {
          "name": "stdout",
          "output_type": "stream",
          "text": [
            "MediumAgent player wins 95.0% of the time!\n"
          ]
        },
        {
          "name": "stderr",
          "output_type": "stream",
          "text": [
            "100%|██████████| 20/20 [00:03<00:00,  5.68it/s]"
          ]
        },
        {
          "name": "stdout",
          "output_type": "stream",
          "text": [
            "MediumAgent player wins 80.0% of the time!\n"
          ]
        },
        {
          "name": "stderr",
          "output_type": "stream",
          "text": [
            "\n"
          ]
        }
      ],
      "source": [
        "game = GamePlayer(EasyAgent(Piece.WHITE),MediumAgent(Piece.BLACK))\n",
        "MediumAgent_wins_second = 0\n",
        "games_to_play = 20\n",
        "for i in tqdm(range(games_to_play)):\n",
        "  winner = game.playGame()\n",
        "  if winner == 'player 2 won':\n",
        "    MediumAgent_wins_second += 1\n",
        "print(f'MediumAgent player wins {MediumAgent_wins_second * 100 / games_to_play}% of the time!')\n",
        "game = GamePlayer(MediumAgent(Piece.WHITE),EasyAgent(Piece.BLACK))\n",
        "MediumAgent_wins_first = 0\n",
        "games_to_play = 20\n",
        "for i in tqdm(range(games_to_play)):\n",
        "  winner = game.playGame()\n",
        "  if winner == 'player 1 won':\n",
        "    MediumAgent_wins_first += 1\n",
        "print(f'MediumAgent player wins {MediumAgent_wins_first * 100 / games_to_play}% of the time!')"
      ]
    },
    {
      "cell_type": "code",
      "execution_count": null,
      "id": "Z_Y1GUZWeGg5",
      "metadata": {
        "id": "Z_Y1GUZWeGg5"
      },
      "outputs": [],
      "source": [
        "# results.loc[5] = [\"EasyAgent\", \"MediumAgent\", MediumAgent_wins_first,20-MediumAgent_wins_first]"
      ]
    },
    {
      "cell_type": "code",
      "execution_count": null,
      "id": "tko2p6DOeGg6",
      "metadata": {
        "id": "tko2p6DOeGg6"
      },
      "outputs": [],
      "source": [
        "# results.loc[6] = [\"MediumAgent\", \"EasyAgent\", 20-MediumAgent_wins_second,MediumAgent_wins_second]"
      ]
    },
    {
      "cell_type": "markdown",
      "id": "71782d0f",
      "metadata": {
        "id": "71782d0f"
      },
      "source": [
        "### Notes\n",
        "The value function determines how good it is to be in state s,\n",
        "Agent can also learn the value of a state-action pair, which is a q value. The q funciton \n",
        "measueres tha value of choosing a particualar action when in a particular state.\n",
        "\n",
        "\n",
        "Deep Q-Learning replaces the regular Q-table with a neural network. Rather than mapping a state-action pair to a q-value, a neural network maps input states to (action, Q-value) pairs.\n",
        "\n",
        "The Bellman equation is a recursive equation that relates the value of a state to the values of its successor states. It decomposes the value function into two parts: an immediate reward and the expected discounted value of the next state. The Bellman equation is used to update the value function iteratively, until it converges to the true value function.\n",
        "\n",
        "https://towardsdatascience.com/deep-q-learning-tutorial-mindqn-2a4c855abffc"
      ]
    },
    {
      "cell_type": "markdown",
      "id": "de52410a",
      "metadata": {
        "id": "de52410a"
      },
      "source": [
        "## Good code references:\n",
        "   * https://github.com/giladariel/TicTacToe_RL/blob/master/DeepTicTacToe_org.py\n",
        "   * https://github.com/mswang12/minDQN/blob/main/minDQN.py"
      ]
    },
    {
      "cell_type": "code",
      "execution_count": null,
      "id": "679328c1",
      "metadata": {
        "id": "679328c1"
      },
      "outputs": [],
      "source": [
        "### Notes\n",
        "The value function determines how good it is to be in state s,\n",
        "Agent can also learn the value of a state-action pair, which is a q value. The q funciton \n",
        "measueres tha value of choosing a particualar action when in a particular state.\n",
        "\n",
        "\n",
        "Deep Q-Learning replaces the regular Q-table with a neural network. Rather than mapping a state-action pair to a q-value, a neural network maps input states to (action, Q-value) pairs.\n",
        "\n",
        "The Bellman equation is a recursive equation that relates the value of a state to the values of its successor states. It decomposes the value function into two parts: an immediate reward and the expected discounted value of the next state. The Bellman equation is used to update the value function iteratively, until it converges to the true value function.\n",
        "\n",
        "https://towardsdatascience.com/deep-q-learning-tutorial-mindqn-2a4c855abffc\n",
        "\n",
        "## Good code references:\n",
        "   * https://github.com/giladariel/TicTacToe_RL/blob/master/DeepTicTacToe_org.py\n",
        "   * https://github.com/mswang12/minDQN/blob/main/minDQN.py"
      ]
    }
  ],
  "metadata": {
    "colab": {
      "provenance": []
    },
    "kernelspec": {
      "display_name": "python310",
      "language": "python",
      "name": "python310"
    },
    "language_info": {
      "codemirror_mode": {
        "name": "ipython",
        "version": 3
      },
      "file_extension": ".py",
      "mimetype": "text/x-python",
      "name": "python",
      "nbconvert_exporter": "python",
      "pygments_lexer": "ipython3",
      "version": "3.10.8"
    }
  },
  "nbformat": 4,
  "nbformat_minor": 5
}