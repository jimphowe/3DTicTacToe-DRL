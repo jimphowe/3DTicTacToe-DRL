{
  "cells": [
    {
      "cell_type": "markdown",
      "id": "d9ac3d5a",
      "metadata": {
        "id": "d9ac3d5a"
      },
      "source": [
        "# Imports"
      ]
    },
    {
      "cell_type": "code",
      "execution_count": 1,
      "id": "bb821edd",
      "metadata": {
        "id": "bb821edd"
      },
      "outputs": [],
      "source": [
        "import random\n",
        "import numpy as np\n",
        "import keras.models as Km\n",
        "import keras.layers as Kl\n",
        "import tensorflow as tf"
      ]
    },
    {
      "cell_type": "markdown",
      "id": "16201813",
      "metadata": {
        "id": "16201813"
      },
      "source": [
        "# Piece Class"
      ]
    },
    {
      "cell_type": "code",
      "execution_count": 2,
      "id": "d87979f2",
      "metadata": {
        "id": "d87979f2"
      },
      "outputs": [],
      "source": [
        "from enum import Enum\n",
        "\n",
        "class Piece(Enum):\n",
        "    EMPTY = 'EMPTY'\n",
        "    BLACK = 'BLACK'\n",
        "    WHITE = 'WHITE'\n",
        "    RED = ' RED '"
      ]
    },
    {
      "cell_type": "markdown",
      "id": "d23c6c04",
      "metadata": {
        "id": "d23c6c04"
      },
      "source": [
        "# Board Class"
      ]
    },
    {
      "cell_type": "code",
      "execution_count": 3,
      "id": "c95e6981",
      "metadata": {
        "id": "c95e6981"
      },
      "outputs": [],
      "source": [
        "import copy\n",
        "\n",
        "class Board:\n",
        "    def __init__(self):\n",
        "        self.pieces = [[[Piece.EMPTY for k in range(3)] for j in range(3)] for i in range(3)]\n",
        "        self.winningRuns = self.getWinningRuns()\n",
        "\n",
        "    def validMove(self,x,y,z,dir):\n",
        "        if not x in range(3) or not y in range(3) or not z in range(3):\n",
        "              return False\n",
        "        if dir == 'UP':\n",
        "              return (z == 2) and (self.pieces[x][y][z] == Piece.EMPTY or self.pieces[x][y][z-1] == Piece.EMPTY or self.pieces[x][y][z-2] == Piece.EMPTY)\n",
        "        if dir == 'DOWN':\n",
        "              return (z == 0) and (self.pieces[x][y][z] == Piece.EMPTY or self.pieces[x][y][z+1] == Piece.EMPTY or self.pieces[x][y][z+2] == Piece.EMPTY)\n",
        "        if dir == 'LEFT':\n",
        "              return (x == 2) and (self.pieces[x][y][z] == Piece.EMPTY or self.pieces[x-1][y][z] == Piece.EMPTY or self.pieces[x-2][y][z] == Piece.EMPTY)\n",
        "        if dir == 'RIGHT':\n",
        "              return (x == 0) and (self.pieces[x][y][z] == Piece.EMPTY or self.pieces[x+1][y][z] == Piece.EMPTY or self.pieces[x+2][y][z] == Piece.EMPTY)\n",
        "        if dir == 'FRONT':\n",
        "              return (y == 2) and (self.pieces[x][y][z] == Piece.EMPTY or self.pieces[x][y-1][z] == Piece.EMPTY or self.pieces[x][y-2][z] == Piece.EMPTY)\n",
        "        if dir == 'BACK':\n",
        "              return (y == 0) and (self.pieces[x][y][z] == Piece.EMPTY or self.pieces[x][y+1][z] == Piece.EMPTY or self.pieces[x][y+2][z] == Piece.EMPTY)\n",
        "        else:\n",
        "              return False\n",
        "            \n",
        "    def move(self,x,y,z,dir,player: Piece):\n",
        "        if not self.validMove(x,y,z,dir):\n",
        "             raise ValueError\n",
        "        else:\n",
        "            if (self.pieces[x][y][z] == Piece.EMPTY):\n",
        "                self.pieces[x][y][z] = player\n",
        "            else:\n",
        "                if dir == 'UP':\n",
        "                    if (self.pieces[x][y][z-1] == Piece.EMPTY):\n",
        "                        self.pieces[x][y][z-1] = self.pieces[x][y][z]\n",
        "                        self.pieces[x][y][z] = player\n",
        "                    else:\n",
        "                        self.pieces[x][y][z-2] = self.pieces[x][y][z-1]\n",
        "                        self.pieces[x][y][z-1] = self.pieces[x][y][z]\n",
        "                        self.pieces[x][y][z] = player\n",
        "                elif dir == 'DOWN':\n",
        "                      if (self.pieces[x][y][z+1] == Piece.EMPTY):\n",
        "                          self.pieces[x][y][z+1] = self.pieces[x][y][z]\n",
        "                          self.pieces[x][y][z] = player\n",
        "                      else:\n",
        "                          self.pieces[x][y][z+2] = self.pieces[x][y][z+1]\n",
        "                          self.pieces[x][y][z+1] = self.pieces[x][y][z]\n",
        "                          self.pieces[x][y][z] = player\n",
        "                elif dir == 'LEFT':\n",
        "                      if (self.pieces[x-1][y][z] == Piece.EMPTY):\n",
        "                          self.pieces[x-1][y][z] = self.pieces[x][y][z]\n",
        "                          self.pieces[x][y][z] = player\n",
        "                      else:\n",
        "                          self.pieces[x-2][y][z] = self.pieces[x-1][y][z]\n",
        "                          self.pieces[x-1][y][z] = self.pieces[x][y][z]\n",
        "                          self.pieces[x][y][z] = player\n",
        "                elif dir == 'RIGHT':\n",
        "                      if (self.pieces[x+1][y][z] == Piece.EMPTY):\n",
        "                          self.pieces[x+1][y][z] = self.pieces[x][y][z]\n",
        "                          self.pieces[x][y][z] = player\n",
        "                      else:\n",
        "                          self.pieces[x+2][y][z] = self.pieces[x+1][y][z]\n",
        "                          self.pieces[x+1][y][z] = self.pieces[x][y][z]\n",
        "                          self.pieces[x][y][z] = player\n",
        "                elif dir == 'FRONT':\n",
        "                      if (self.pieces[x][y-1][z] == Piece.EMPTY):\n",
        "                          self.pieces[x][y-1][z] = self.pieces[x][y][z]\n",
        "                          self.pieces[x][y][z] = player\n",
        "                      else:\n",
        "                          self.pieces[x][y-2][z] = self.pieces[x][y-1][z]\n",
        "                          self.pieces[x][y-1][z] = self.pieces[x][y][z]\n",
        "                          self.pieces[x][y][z] = player\n",
        "                elif dir == 'BACK':\n",
        "                      if (self.pieces[x][y+1][z] == Piece.EMPTY):\n",
        "                          self.pieces[x][y+1][z] = self.pieces[x][y][z]\n",
        "                          self.pieces[x][y][z] = player\n",
        "                      else:\n",
        "                          self.pieces[x][y+2][z] = self.pieces[x][y+1][z]\n",
        "                          self.pieces[x][y+1][z] = self.pieces[x][y][z]\n",
        "                          self.pieces[x][y][z] = player\n",
        "\n",
        "    def getGameState(self):\n",
        "        gameState = \"+----------------------\\n\"\n",
        "        gameState += \"| \\ \" + self.pieces[0][2][0].value + \"  \" + self.pieces[1][2][0].value + \"  \" + self.pieces[2][2][0].value + \" \\\\\\n\"\n",
        "        gameState += \"|   \\                     \\\\\\n\"\n",
        "        gameState += \"|     \\ \" + self.pieces[0][1][0].value + \"  \" + self.pieces[1][1][0].value + \"  \" + self.pieces[2][1][0].value + \" \\\\\\n\"\n",
        "        gameState += \"|       \\                     \\\\\\n\"\n",
        "        gameState += \"|         \\ \" + self.pieces[0][0][0].value + \"  \" + self.pieces[1][0][0].value + \"  \" + self.pieces[2][0][0].value + \" \\\\\\n\"\n",
        "        gameState += \"|          ---------------------|\\n\"\n",
        "        gameState += \"|   \" + self.pieces[0][2][1].value + \" |\" + self.pieces[1][2][1].value + \"  \" + self.pieces[2][2][1].value + \"         |\\n\"\n",
        "        gameState += \"|         |                     |\\n\"\n",
        "        gameState += \"|       \" + self.pieces[0][1][1].value + \"  \" + self.pieces[1][1][1].value + \"  \" + self.pieces[2][1][1].value + \"     |\\n\"\n",
        "        gameState += \"|         |                     |\\n\"\n",
        "        gameState += \"|         | \" + self.pieces[0][0][1].value + \"  \" + self.pieces[1][0][1].value + \"  \" + self.pieces[2][0][1].value + \" |\\n\"\n",
        "        gameState += \"|         |                     |\\n\"\n",
        "        gameState += \" \\ \" + self.pieces[0][2][2].value + \"  \" + self.pieces[1][2][2].value + \"  \" + self.pieces[2][2][2].value + \"          |\\n\"\n",
        "        gameState += \"   \\      |                     |\\n\"\n",
        "        gameState += \"     \\ \" + self.pieces[0][1][2].value + \"  \" + self.pieces[1][1][2].value + \"  \" + self.pieces[2][1][2].value + \"      |\\n\"\n",
        "        gameState += \"       \\  |                     |\\n\"\n",
        "        gameState += \"         \\| \" + self.pieces[0][0][2].value + \"  \" + self.pieces[1][0][2].value + \"  \" + self.pieces[2][0][2].value + \" |\\n\"\n",
        "        gameState += \"           ---------------------+\\n\\n\"\n",
        "        return gameState\n",
        "    \n",
        "\n",
        "    def getWinningRuns(self):\n",
        "        runs = []\n",
        "\n",
        "        runs.append([(0,0,0),(0,0,1),(0,0,2)])\n",
        "        runs.append([(0,0,0),(0,1,0),(0,2,0)])\n",
        "        runs.append([(0,0,0),(1,0,0),(2,0,0)])\n",
        "\n",
        "        runs.append([(2,2,0),(1,2,0),(0,2,0)])\n",
        "        runs.append([(2,2,0),(2,1,0),(2,0,0)])\n",
        "        runs.append([(2,2,0),(2,2,1),(2,2,2)])\n",
        "\n",
        "        runs.append([(0,2,2),(0,1,2),(0,0,2)])\n",
        "        runs.append([(0,2,2),(1,2,2),(2,2,2)])\n",
        "        runs.append([(0,2,2),(0,2,1),(0,2,0)])\n",
        "\n",
        "        runs.append([(2,0,2),(2,0,1),(2,0,0)])\n",
        "        runs.append([(2,0,2),(1,0,2),(0,0,2)])\n",
        "        runs.append([(2,0,2),(2,1,2),(2,2,2)])\n",
        "        # Front\n",
        "        runs.append([(0,0,0),(1,0,1),(2,0,2)])\n",
        "        runs.append([(0,0,2),(1,0,1),(2,0,0)])\n",
        "        runs.append([(1,0,0),(1,0,1),(1,0,2)])\n",
        "        runs.append([(0,0,1),(1,0,1),(2,0,1)])\n",
        "        # Top\n",
        "        runs.append([(0,0,0),(1,1,0),(2,2,0)])\n",
        "        runs.append([(0,2,0),(1,1,0),(2,0,0)])\n",
        "        runs.append([(0,1,0),(1,1,0),(2,1,0)])\n",
        "        runs.append([(1,2,0),(1,1,0),(1,0,0)])\n",
        "        # Left\n",
        "        runs.append([(0,0,0),(0,1,1),(0,2,2)])\n",
        "        runs.append([(0,0,2),(0,1,1),(0,2,0)])\n",
        "        runs.append([(0,0,1),(0,1,1),(0,2,1)])\n",
        "        runs.append([(0,1,0),(0,1,1),(0,1,2)])\n",
        "        # Back\n",
        "        runs.append([(0,2,2),(1,2,1),(2,2,0)])\n",
        "        runs.append([(0,2,0),(1,2,1),(2,2,2)])\n",
        "        runs.append([(1,2,0),(1,2,1),(1,2,2)])\n",
        "        runs.append([(0,2,1),(1,2,1),(2,2,1)])\n",
        "        # Right\n",
        "        runs.append([(2,0,2),(2,1,1),(2,2,0)])\n",
        "        runs.append([(2,0,0),(2,1,1),(2,2,2)])\n",
        "        runs.append([(2,0,1),(2,1,1),(2,2,1)])\n",
        "        runs.append([(2,1,0),(2,1,1),(2,1,2)])\n",
        "        # Bottom\n",
        "        runs.append([(2,0,2),(1,1,2),(0,2,2)])\n",
        "        runs.append([(0,0,2),(1,1,2),(2,2,2)])\n",
        "        runs.append([(0,1,2),(1,1,2),(2,1,2)])\n",
        "        runs.append([(1,0,2),(1,1,2),(1,2,2)])\n",
        "        # Corners\n",
        "        runs.append([(0,0,0),(1,1,1),(2,2,2)])\n",
        "        runs.append([(2,0,0),(1,1,1),(0,2,2)])\n",
        "        runs.append([(2,2,0),(1,1,1),(0,0,2)])\n",
        "        runs.append([(0,2,0),(1,1,1),(2,0,2)])\n",
        "        # Edges\n",
        "        runs.append([(1,0,0),(1,1,1),(1,2,2)])\n",
        "        runs.append([(2,1,0),(1,1,1),(0,1,2)])\n",
        "        runs.append([(1,2,0),(1,1,1),(1,0,2)])\n",
        "        runs.append([(0,1,0),(1,1,1),(2,1,2)])\n",
        "        runs.append([(0,0,1),(1,1,1),(2,2,1)])\n",
        "        runs.append([(2,0,1),(1,1,1),(0,2,1)])\n",
        "        # Middles\n",
        "        runs.append([(1,1,0),(1,1,1),(1,1,2)])\n",
        "        runs.append([(1,0,1),(1,1,1),(1,2,1)])\n",
        "        runs.append([(0,1,1),(1,1,1),(2,1,1)])\n",
        "\n",
        "        return runs\n",
        "\n",
        "    def getPossibleMoves(self):\n",
        "        directions = ['UP','DOWN','LEFT','RIGHT','FRONT','BACK']\n",
        "        moves = []\n",
        "        for x in range(2):\n",
        "          for y in range(2):\n",
        "            for z in range(2):\n",
        "              for dir in directions:\n",
        "                if self.validMove(x,y,z,dir):\n",
        "                  moves.append((x,y,z,dir))\n",
        "        return moves\n",
        "\n",
        "    def getWinInOne(self,player: Piece):\n",
        "        for (x,y,z,dir) in self.getPossibleMoves():\n",
        "          c = copy.deepcopy(self)\n",
        "          c.move(x,y,z,dir,player)\n",
        "          if c.hasWon(player):\n",
        "            return (x,y,z,dir)\n",
        "        return None\n",
        "\n",
        "    def otherPlayer(self,player: Piece):\n",
        "        return Piece.RED if player == Piece.WHITE else Piece.WHITE\n",
        "\n",
        "    def getDefendingMove(self,player: Piece):\n",
        "        potential_moves = []\n",
        "        for (x,y,z,dir) in self.getPossibleMoves():\n",
        "          c = copy.deepcopy(self)\n",
        "          c.move(x,y,z,dir,player)\n",
        "          if c.getWinInOne(self.otherPlayer(player)) == None:\n",
        "            potential_moves.append((x,y,z,dir))\n",
        "        if potential_moves:\n",
        "          return random.choice(potential_moves)\n",
        "        return None\n",
        "\n",
        "    def getWinInTwo(self,player: Piece):\n",
        "        potential_moves = []\n",
        "        for (x,y,z,dir) in self.getPossibleMoves():\n",
        "          c = copy.deepcopy(self)\n",
        "          c.move(x,y,z,dir,player)\n",
        "          if c.getWinInOne(self.otherPlayer(player)) == None:\n",
        "            winner = True\n",
        "            for (x2,y2,z2,dir2) in c.getPossibleMoves():\n",
        "              c2 = copy.deepcopy(c)\n",
        "              c2.move(x2,y2,z2,dir2,self.otherPlayer(player))\n",
        "              if c2.getWinInOne(player) == None:\n",
        "                winner = False\n",
        "            if winner:\n",
        "              potential_moves.append((x,y,z,dir))\n",
        "        if potential_moves:\n",
        "          return random.choice(potential_moves)\n",
        "        return None\n",
        "\n",
        "    def getRandomMove(self,player: Piece):\n",
        "        directions = ['UP','DOWN','LEFT','RIGHT','FRONT','BACK']\n",
        "        x = random.randint(0,2)\n",
        "        y = random.randint(0,2)\n",
        "        z = random.randint(0,2)\n",
        "        dir = random.choice(directions)\n",
        "        while not self.validMove(x,y,z,dir):\n",
        "            x = random.randint(0,2)\n",
        "            y = random.randint(0,2)\n",
        "            z = random.randint(0,2)\n",
        "            dir = random.choice(directions)\n",
        "        return (x,y,z,dir)\n",
        "\n",
        "    def hasWon(self,player: Piece):\n",
        "        for run in self.winningRuns:\n",
        "            if all(self.pieces[x][y][z] == player for (x,y,z) in run):\n",
        "                return True\n",
        "        return False\n",
        "    \n",
        "    def gameOver(self):\n",
        "        return self.hasWon(Piece.RED) or self.hasWon(Piece.WHITE)"
      ]
    },
    {
      "cell_type": "markdown",
      "id": "c90742e7",
      "metadata": {
        "id": "c90742e7"
      },
      "source": [
        "# Random Agent"
      ]
    },
    {
      "cell_type": "code",
      "execution_count": 4,
      "id": "919b0d5d",
      "metadata": {
        "id": "919b0d5d"
      },
      "outputs": [],
      "source": [
        "class RandomAgent:\n",
        "    def __init__(self,player):\n",
        "        self.player = player\n",
        "\n",
        "    def getMove(self, board: Board):\n",
        "        return board.getRandomMove(self.player)"
      ]
    },
    {
      "cell_type": "markdown",
      "id": "FNIKVDWcIZXz",
      "metadata": {
        "id": "FNIKVDWcIZXz"
      },
      "source": [
        "# Easy Agent"
      ]
    },
    {
      "cell_type": "code",
      "execution_count": 5,
      "id": "oiGGigmkIdv_",
      "metadata": {
        "id": "oiGGigmkIdv_"
      },
      "outputs": [],
      "source": [
        "class EasyAgent:\n",
        "    def __init__(self,player):\n",
        "        self.player = player\n",
        "\n",
        "    def getMove(self, board: Board):\n",
        "        winningMove = board.getWinInOne(self.player)\n",
        "        if winningMove:\n",
        "          return winningMove\n",
        "        else:\n",
        "          return board.getRandomMove(self.player)"
      ]
    },
    {
      "cell_type": "markdown",
      "id": "9JkgzsI3uMcs",
      "metadata": {
        "id": "9JkgzsI3uMcs"
      },
      "source": [
        "# Medium Agent"
      ]
    },
    {
      "cell_type": "code",
      "execution_count": 6,
      "id": "0StiPGknuITm",
      "metadata": {
        "id": "0StiPGknuITm"
      },
      "outputs": [],
      "source": [
        "class MediumAgent:\n",
        "    def __init__(self,player):\n",
        "        self.player = player\n",
        "\n",
        "    def getMove(self, board: Board):\n",
        "        winningMove = board.getWinInOne(self.player)\n",
        "        if winningMove:\n",
        "          return winningMove\n",
        "        else:\n",
        "          defendingMove = board.getDefendingMove(self.player)\n",
        "          if defendingMove:\n",
        "            return defendingMove\n",
        "          else:\n",
        "            return board.getRandomMove(self.player)"
      ]
    },
    {
      "cell_type": "markdown",
      "id": "9ho8XxlS13pv",
      "metadata": {
        "id": "9ho8XxlS13pv"
      },
      "source": [
        "# Hard Agent"
      ]
    },
    {
      "cell_type": "code",
      "execution_count": 7,
      "id": "krHzapzO16Oc",
      "metadata": {
        "id": "krHzapzO16Oc"
      },
      "outputs": [],
      "source": [
        "class HardAgent:\n",
        "    def __init__(self,player):\n",
        "        self.player = player\n",
        "\n",
        "    def getMove(self, board: Board):\n",
        "        winningMove = board.getWinInOne(self.player)\n",
        "        if winningMove:\n",
        "          return winningMove\n",
        "        else:\n",
        "          winInTwo = board.getWinInTwo(self.player)\n",
        "          if winInTwo:\n",
        "            return winInTwo\n",
        "          else:\n",
        "            defendingMove = board.getDefendingMove(self.player)\n",
        "            if defendingMove:\n",
        "              return defendingMove\n",
        "            else:\n",
        "              return board.getRandomMove(self.player)"
      ]
    },
    {
      "cell_type": "markdown",
      "id": "b77944d1",
      "metadata": {
        "id": "b77944d1"
      },
      "source": [
        "# Deep Agent"
      ]
    },
    {
      "cell_type": "code",
      "execution_count": 9,
      "id": "90dcf597",
      "metadata": {
        "id": "90dcf597"
      },
      "outputs": [],
      "source": [
        "class DeepAgent:\n",
        "    def __init__(self,player):\n",
        "        self.player = player\n",
        "        model_values_path  = '/content/model_values_new.h5'\n",
        "        self.model = Km.load_model(model_values_path)\n",
        "\n",
        "    def getMove(self, board):\n",
        "        state = board.pieces\n",
        "        moves = self.getPossibleMoves(state)\n",
        "\n",
        "        temp_state_list = []\n",
        "        v = -float('Inf')\n",
        "\n",
        "        temp_state_values = []\n",
        "        for x,y,z,direction in moves:\n",
        "            temp_state = copy.deepcopy(state)\n",
        "            temp_state = self.move(temp_state,x,y,z,direction)\n",
        "            temp_state_value =self.calc_value(temp_state)\n",
        "            temp_state_values.append(temp_state_value)\n",
        "        \n",
        "        optimal_move_index = np.argmax(temp_state_values)\n",
        "        # print(moves[optimal_move_index])\n",
        "        # print(moves)\n",
        "        # print(temp_state_values)\n",
        "        # print(len(moves))\n",
        "        # print(len(temp_state_values))\n",
        "        x,y,z,direction = moves[optimal_move_index]\n",
        "\n",
        "        # new_state = self.move(state,x,y,z,direction,self.player)\n",
        "        return (x,y,z,direction)\n",
        "\n",
        "    def move(self,state,x,y,z,direction):\n",
        "        new_state = copy.deepcopy(state)\n",
        "\n",
        "        if not self.validMove(state,x,y,z,direction):\n",
        "              raise ValueError\n",
        "        else:\n",
        "            if (state[x][y][z] == Piece.EMPTY):\n",
        "                new_state[x][y][z] = self.player\n",
        "            else:\n",
        "                if direction == 'UP':\n",
        "                    if (state[x][y][z-1] == Piece.EMPTY):\n",
        "                        new_state[x][y][z-1] = state[x][y][z]\n",
        "                        new_state[x][y][z] = self.player\n",
        "                    else:\n",
        "                        new_state[x][y][z-2] = state[x][y][z-1]\n",
        "                        new_state[x][y][z-1] = state[x][y][z]\n",
        "                        new_state[x][y][z] = self.player\n",
        "                elif direction ==  'DOWN':\n",
        "                    if (state[x][y][z+1] == Piece.EMPTY):\n",
        "                        new_state[x][y][z+1] = state[x][y][z]\n",
        "                        new_state[x][y][z] = self.player\n",
        "                    else:\n",
        "                        new_state[x][y][z+2] = state[x][y][z+1]\n",
        "                        new_state[x][y][z+1] = state[x][y][z]\n",
        "\n",
        "                        new_state[x][y][z] = self.player\n",
        "                elif direction == \"LEFT\":\n",
        "                    if (state[x-1][y][z] == Piece.EMPTY):\n",
        "                        new_state[x-1][y][z] = state[x][y][z]\n",
        "                        new_state[x][y][z] =self.player\n",
        "                    else:\n",
        "                        new_state[x-2][y][z] = state[x-1][y][z]\n",
        "                        new_state[x-1][y][z] = state[x][y][z]\n",
        "                        new_state[x][y][z] =self.player\n",
        "                elif direction == 'RIGHT':\n",
        "                    if (state[x+1][y][z] == Piece.EMPTY):\n",
        "                        new_state[x+1][y][z] = state[x][y][z]\n",
        "                        new_state[x][y][z] = self.player\n",
        "                    else:\n",
        "                        new_state[x+2][y][z] = state[x+1][y][z]\n",
        "                        new_state[x+1][y][z] = state[x][y][z]\n",
        "                        new_state[x][y][z] = self.player\n",
        "                elif direction == 'FRONT':\n",
        "                    if (state[x][y-1][z] == Piece.EMPTY):\n",
        "                        new_state[x][y-1][z] = state[x][y][z]\n",
        "                        new_state[x][y][z] =self.player\n",
        "                    else:\n",
        "                        new_state[x][y-2][z] = state[x][y-1][z]\n",
        "                        new_state[x][y-1][z] = state[x][y][z]\n",
        "                        new_state[x][y][z] = self.player\n",
        "                elif direction == 'BACK':\n",
        "                    if (state[x][y+1][z] == Piece.EMPTY):\n",
        "                        new_state[x][y+1][z] = state[x][y][z]\n",
        "                        new_state[x][y][z] = self.player\n",
        "                    else:\n",
        "                        new_state[x][y+2][z] = state[x][y+1][z]\n",
        "                        new_state[x][y+1][z] = state[x][y][z]\n",
        "                        new_state[x][y][z] = self.player\n",
        "        return new_state\n",
        "\n",
        "    def getPossibleMoves(self, state):\n",
        "        moves = []\n",
        "        for x in range(0,3):\n",
        "            for y in range(0,3):\n",
        "                for z in range(0,3):\n",
        "                    for direction in directions:\n",
        "                        if self.validMove(state,x,y,z,direction):\n",
        "                            moves.append((x,y,z,direction))\n",
        "        return moves\n",
        "\n",
        "    def validMove(self,state,x,y,z,direction):\n",
        "        if not x in range(3) or not y in range(3) or not z in range(3):\n",
        "            return False\n",
        "        if direction == 'UP':\n",
        "            return (z == 2) and (state[x][y][z] == Piece.EMPTY or state[x][y][z-1] == Piece.EMPTY or state[x][y][z-2] == Piece.EMPTY)\n",
        "        elif direction == 'DOWN':\n",
        "            return (z == 0) and (state[x][y][z] == Piece.EMPTY or state[x][y][z+1] == Piece.EMPTY or state[x][y][z+2] == Piece.EMPTY)\n",
        "        elif direction == 'LEFT':\n",
        "            return (x == 2) and (state[x][y][z] == Piece.EMPTY or state[x-1][y][z] == Piece.EMPTY or state[x-2][y][z] == Piece.EMPTY)\n",
        "        elif direction == 'RIGHT':\n",
        "            return (x == 0) and (state[x][y][z] == Piece.EMPTY or state[x+1][y][z] == Piece.EMPTY or state[x+2][y][z] == Piece.EMPTY)\n",
        "        elif direction == 'FRONT':\n",
        "            return (y == 2) and (state[x][y][z] == Piece.EMPTY or state[x][y-1][z] == Piece.EMPTY or state[x][y-2][z] == Piece.EMPTY)\n",
        "        elif direction == 'BACK':\n",
        "            return (y == 0) and (state[x][y][z] == Piece.EMPTY or state[x][y+1][z] == Piece.EMPTY or state[x][y+2][z] == Piece.EMPTY)\n",
        "        else:\n",
        "            return False \n",
        "\n",
        "    def piece_to_num(self, piece):\n",
        "        \n",
        "        if piece == self.player:\n",
        "            return 1\n",
        "        elif piece == Piece.EMPTY:\n",
        "            return 0\n",
        "        else:\n",
        "            return -1\n",
        "\n",
        "    def state2array(self, state):\n",
        "        state_as_array = []\n",
        "        for i in range(3):\n",
        "            for j in range(3):\n",
        "                for k in range(3):\n",
        "                    state_as_array.append(self.piece_to_num(state[i][j][k]))\n",
        "        return np.array(state_as_array)\n",
        "\n",
        "    def calc_value(self, state):\n",
        "        x_test = self.state2array(state)\n",
        "        # print(x_test)\n",
        "        x_test = tf.reshape(x_test,shape=(1,27))\n",
        "        \n",
        "        # print(x_test)\n",
        "        return self.model.predict(x_test, verbose=0)\n",
        "\n"
      ]
    },
    {
      "cell_type": "markdown",
      "source": [
        "# Min max agent"
      ],
      "metadata": {
        "id": "OBscB0-hhUo5"
      },
      "id": "OBscB0-hhUo5"
    },
    {
      "cell_type": "code",
      "source": [
        "import sys\n",
        "\n",
        "\n",
        "class MinMaxAgent():\n",
        "    global P1WIN\n",
        "    P1WIN = 1000000\n",
        "    global P2WIN\n",
        "    P2WIN = -1000000\n",
        "\n",
        "    def __init__(self, player):\n",
        "        self.player = player\n",
        "        self.player2 = Board().otherPlayer(player)\n",
        "\n",
        "    # P1 corner piece -> 1 pt\n",
        "    # P2 corner piece -> -1 pt\n",
        "    # P1 runs of 2 -> 10 pts\n",
        "    # P2 runs of 2 -> -10 pts\n",
        "    # P1 win in 1's / win in 2's -> 1000000 pts\n",
        "    # P2 win in 1's / win in 2's -> -1000000 pts\n",
        "    def evalPos(self, board: Board, p1, p2):\n",
        "        value = 0\n",
        "        for x in [0, 2]:\n",
        "            for y in [0, 2]:\n",
        "                for z in [0, 2]:\n",
        "                    if board.pieces[x][y][z] == p1:\n",
        "                        value += 1\n",
        "                    if board.pieces[x][y][z] == p2:\n",
        "                        value -= 1\n",
        "        for run in board.getWinningRuns():\n",
        "            if (run[0] == run[1] == p1) or (run[1] == run[2] == p1) or (run[0] == run[2] == p1):\n",
        "                value += 10\n",
        "            if (run[0] == run[1] == p2) or (run[1] == run[2] == p2) or (run[0] == run[2] == p2):\n",
        "                value -= 10\n",
        "        if board.getWinInOne(p1) != None:\n",
        "            return P1WIN\n",
        "        if board.getWinInOne(p2) != None:\n",
        "            return P2WIN\n",
        "        return value\n",
        "\n",
        "    def minMax(self, board, player, depth, alpha, beta):\n",
        "        maxDepth = 3\n",
        "\n",
        "        # evaluate the current board using eval(...) and then return its score if this is a leaf node, i.e.,\n",
        "        # you have reached the maximum depth, or it is a win for one of the players\n",
        "        cur_score = self.evalPos(board, player, board.otherPlayer(player))\n",
        "        if depth == maxDepth:\n",
        "            return (cur_score, None)\n",
        "        if cur_score in [P2WIN, P1WIN]:\n",
        "            return (cur_score, None)\n",
        "\n",
        "        # Otherwise, as in lecture, consider whether this is a maximizing player (O) or minimizing\n",
        "        # player (X) and perform the min-max algorithm with alpha-beta pruning, plus whatever\n",
        "        # additional strategies you can come up with\n",
        "\n",
        "        # Note that when you make a recursive call, you don't need the move, so can just do:\n",
        "        #         (score,_) = minMax(.....)\n",
        "        if player == self.player:\n",
        "            value = P2WIN\n",
        "            move = board.getRandomMove(player)\n",
        "            for (x, y, z, dir) in board.getPossibleMoves():\n",
        "                board_copy = copy.deepcopy(board)\n",
        "                board_copy.move(x, y, z, dir, self.player)\n",
        "                new_score = self.minMax(board_copy, self.player2, depth + 1, alpha, beta)[0]\n",
        "                if new_score > value:\n",
        "                    print('p1 move updated')\n",
        "                    value = new_score\n",
        "                    move = (x, y, z, dir)\n",
        "                    #alpha = max(alpha, value)\n",
        "                    #if alpha >= beta:\n",
        "                    #  break\n",
        "            # print(\"returning p1 move\")\n",
        "            return (value, move)\n",
        "        else:\n",
        "            value = P1WIN\n",
        "            move = board.getRandomMove(player)\n",
        "            for (x, y, z, dir) in board.getPossibleMoves():\n",
        "                board_copy = copy.deepcopy(board)\n",
        "                board_copy.move(x, y, z, dir, self.player2)\n",
        "                new_score = self.minMax(board_copy, self.player, depth + 1, alpha, beta)[0]\n",
        "                if new_score < value:\n",
        "                    print('p2 move update')\n",
        "                    value = new_score\n",
        "                    move = (x, y, z, dir)\n",
        "                    #beta = min(beta, value)\n",
        "                    #if alpha >= beta:\n",
        "                    #  break\n",
        "            # print(\"returning p2 move\")\n",
        "            return (value, move)\n",
        "\n",
        "    # You will use this function in your interactive version below\n",
        "\n",
        "    def getMove(self, board):\n",
        "        (_, move) = self.minMax(board, self.player, 0, -sys.maxsize, sys.maxsize)  # only place we need the move\n",
        "        if move == None:\n",
        "            print(board.getGameState())\n",
        "            print(board.getWinInOne(self.player))\n",
        "            return board.getWinInOne(self.player) or board.getRandomMove(self.player)\n",
        "        return move\n"
      ],
      "metadata": {
        "id": "pCDiIh1YhUB1"
      },
      "id": "pCDiIh1YhUB1",
      "execution_count": 10,
      "outputs": []
    },
    {
      "cell_type": "markdown",
      "id": "c6e8cf00",
      "metadata": {
        "id": "c6e8cf00"
      },
      "source": [
        "# Game Player"
      ]
    },
    {
      "cell_type": "code",
      "execution_count": 11,
      "id": "yQkDHXTzCgTq",
      "metadata": {
        "id": "yQkDHXTzCgTq"
      },
      "outputs": [],
      "source": [
        "class GamePlayer:\n",
        "    def __init__(self,player1,player2):\n",
        "      self.player1 = player1\n",
        "      self.player2 = player2\n",
        "      self.board = Board()\n",
        "\n",
        "    def playGame(self):\n",
        "       self.board = Board()\n",
        "       while 1 == 1:\n",
        "          # Player 1 moves\n",
        "          (x1,y1,z1,dir1) = self.player1.getMove(self.board)\n",
        "          self.board.move(x1,y1,z1,dir1,self.player1.player)\n",
        "          # print(self.board.getGameState())\n",
        "          if self.board.hasWon(self.player1.player):\n",
        "             return 'player 1 won'\n",
        "\n",
        "          # Player 2 moves\n",
        "          (x2,y2,z2,dir2) = self.player2.getMove(self.board)\n",
        "          self.board.move(x2,y2,z2,dir2,self.player2.player)\n",
        "          \n",
        "          # print(self.board.getGameState())\n",
        "          if self.board.hasWon(self.player2.player):\n",
        "             return 'player 2 won'"
      ]
    },
    {
      "cell_type": "code",
      "execution_count": 12,
      "id": "f59384fd",
      "metadata": {
        "id": "f59384fd"
      },
      "outputs": [],
      "source": [
        "directions = ['UP','DOWN','LEFT','RIGHT','FRONT','BACK']"
      ]
    },
    {
      "cell_type": "markdown",
      "id": "SkczFa21CDxa",
      "metadata": {
        "id": "SkczFa21CDxa"
      },
      "source": [
        "# Experiments"
      ]
    },
    {
      "cell_type": "markdown",
      "id": "FEM8JacQCUr2",
      "metadata": {
        "id": "FEM8JacQCUr2"
      },
      "source": [
        "### DeepAgent vs Easy Agent"
      ]
    },
    {
      "cell_type": "code",
      "execution_count": 13,
      "id": "SFqkPN76DeAA",
      "metadata": {
        "id": "SFqkPN76DeAA"
      },
      "outputs": [],
      "source": [
        "import pandas as pd"
      ]
    },
    {
      "cell_type": "code",
      "execution_count": 14,
      "id": "jIJ15wlNC80f",
      "metadata": {
        "id": "jIJ15wlNC80f"
      },
      "outputs": [],
      "source": [
        "results = pd.DataFrame(columns=[\"Player1\",\"Player2\", \"Games_Won_by_Player1\", \"Games_Won_by_Player2\"])"
      ]
    },
    {
      "cell_type": "code",
      "execution_count": 15,
      "id": "g2LuVj5eEYVl",
      "metadata": {
        "id": "g2LuVj5eEYVl"
      },
      "outputs": [],
      "source": [
        "from tqdm import tqdm"
      ]
    },
    {
      "cell_type": "code",
      "execution_count": 16,
      "id": "YaLQyOd7BT9s",
      "metadata": {
        "colab": {
          "base_uri": "https://localhost:8080/"
        },
        "id": "YaLQyOd7BT9s",
        "outputId": "fb412a64-5be3-4269-88ee-fa60ff374fa3"
      },
      "outputs": [
        {
          "output_type": "stream",
          "name": "stderr",
          "text": [
            "100%|██████████| 20/20 [05:25<00:00, 16.29s/it]\n"
          ]
        },
        {
          "output_type": "stream",
          "name": "stdout",
          "text": [
            "DeepAgent player wins 20.0% of the time!\n"
          ]
        },
        {
          "output_type": "stream",
          "name": "stderr",
          "text": [
            "100%|██████████| 20/20 [05:28<00:00, 16.40s/it]"
          ]
        },
        {
          "output_type": "stream",
          "name": "stdout",
          "text": [
            "DeepAgent player wins 10.0% of the time!\n"
          ]
        },
        {
          "output_type": "stream",
          "name": "stderr",
          "text": [
            "\n"
          ]
        }
      ],
      "source": [
        "game = GamePlayer(EasyAgent(Piece.WHITE),DeepAgent(Piece.BLACK))\n",
        "deep_agent_wins_second = 0\n",
        "games_to_play = 20\n",
        "for i in tqdm(range(games_to_play)):\n",
        "  winner = game.playGame()\n",
        "  # print(\"deep agent didn't win\")\n",
        "  if winner == 'player 2 won':\n",
        "    # print(\"deep agent won\")\n",
        "    deep_agent_wins_second += 1\n",
        "print(f'DeepAgent player wins {deep_agent_wins_second * 100 / games_to_play}% of the time!')\n",
        "game = GamePlayer(DeepAgent(Piece.WHITE),EasyAgent(Piece.BLACK))\n",
        "deep_agent_wins_first = 0\n",
        "games_to_play = 20\n",
        "for i in tqdm(range(games_to_play)):\n",
        "  winner = game.playGame()\n",
        "  # print(\"deep agent didn't win\")\n",
        "  if winner == 'player 1 won':\n",
        "    # print(\"deep agent won\")\n",
        "    deep_agent_wins_first += 1\n",
        "print(f'DeepAgent player wins {deep_agent_wins_first * 100 / games_to_play}% of the time!')"
      ]
    },
    {
      "cell_type": "code",
      "execution_count": 17,
      "id": "pm1sKRtzG7mD",
      "metadata": {
        "id": "pm1sKRtzG7mD"
      },
      "outputs": [],
      "source": [
        "results.loc[0] = [\"DeepAgent\", \"EasyAgent\", deep_agent_wins_first,20-deep_agent_wins_first]"
      ]
    },
    {
      "cell_type": "code",
      "execution_count": 18,
      "id": "-dfWGOEpc5cM",
      "metadata": {
        "id": "-dfWGOEpc5cM"
      },
      "outputs": [],
      "source": [
        "results.loc[1] = [\"EasyAgent\", \"DeepAgent\", 20-deep_agent_wins_second,deep_agent_wins_second]"
      ]
    },
    {
      "cell_type": "markdown",
      "id": "FaOdmNAxYKwi",
      "metadata": {
        "id": "FaOdmNAxYKwi"
      },
      "source": [
        "### DeepAgent vs Medium Agent"
      ]
    },
    {
      "cell_type": "code",
      "execution_count": 20,
      "id": "RLUQot4VYKwk",
      "metadata": {
        "id": "RLUQot4VYKwk",
        "colab": {
          "base_uri": "https://localhost:8080/"
        },
        "outputId": "bd43dace-8522-42eb-fdf4-a788f8a69deb"
      },
      "outputs": [
        {
          "output_type": "stream",
          "name": "stderr",
          "text": [
            "100%|██████████| 20/20 [03:44<00:00, 11.22s/it]\n"
          ]
        },
        {
          "output_type": "stream",
          "name": "stdout",
          "text": [
            "DeepAgent player wins 0.0% of the time!\n"
          ]
        },
        {
          "output_type": "stream",
          "name": "stderr",
          "text": [
            "100%|██████████| 20/20 [05:12<00:00, 15.61s/it]"
          ]
        },
        {
          "output_type": "stream",
          "name": "stdout",
          "text": [
            "DeepAgent player wins 5.0% of the time!\n"
          ]
        },
        {
          "output_type": "stream",
          "name": "stderr",
          "text": [
            "\n"
          ]
        }
      ],
      "source": [
        "game = GamePlayer(MediumAgent(Piece.WHITE),DeepAgent(Piece.BLACK))\n",
        "deep_agent_wins_second = 0\n",
        "games_to_play = 20\n",
        "for i in tqdm(range(games_to_play)):\n",
        "  winner = game.playGame()\n",
        "  # print(\"deep agent didn't win\")\n",
        "  if winner == 'player 2 won':\n",
        "    # print(\"deep agent won\")\n",
        "    deep_agent_wins_second += 1\n",
        "print(f'DeepAgent player wins {deep_agent_wins_second * 100 / games_to_play}% of the time!')\n",
        "game = GamePlayer(DeepAgent(Piece.WHITE),MediumAgent(Piece.BLACK))\n",
        "deep_agent_wins_first = 0\n",
        "games_to_play = 20\n",
        "for i in tqdm(range(games_to_play)):\n",
        "  winner = game.playGame()\n",
        "  # print(\"deep agent didn't win\")\n",
        "  if winner == 'player 1 won':\n",
        "    # print(\"deep agent won\")\n",
        "    deep_agent_wins_first += 1\n",
        "print(f'DeepAgent player wins {deep_agent_wins_first * 100 / games_to_play}% of the time!')"
      ]
    },
    {
      "cell_type": "code",
      "execution_count": 24,
      "id": "RNfRo8ajYKwl",
      "metadata": {
        "id": "RNfRo8ajYKwl"
      },
      "outputs": [],
      "source": [
        "results.loc[2] = [\"DeepAgent\", \"MediumAgent\", deep_agent_wins_first,20-deep_agent_wins_first]"
      ]
    },
    {
      "cell_type": "code",
      "execution_count": 25,
      "id": "QovQgSohd8Ex",
      "metadata": {
        "id": "QovQgSohd8Ex"
      },
      "outputs": [],
      "source": [
        "results.loc[3] = [\"MediumAgent\", \"DeepAgent\", 20-deep_agent_wins_second,deep_agent_wins_second]"
      ]
    },
    {
      "cell_type": "markdown",
      "id": "jGfyexH0YZG6",
      "metadata": {
        "id": "jGfyexH0YZG6"
      },
      "source": [
        "### DeepAgent vs Hard Agent"
      ]
    },
    {
      "cell_type": "code",
      "execution_count": 27,
      "id": "C1AYTNKFYZHD",
      "metadata": {
        "id": "C1AYTNKFYZHD"
      },
      "outputs": [],
      "source": [
        "from tqdm import tqdm"
      ]
    },
    {
      "cell_type": "code",
      "execution_count": 28,
      "id": "-S8CD9ucYZHD",
      "metadata": {
        "colab": {
          "base_uri": "https://localhost:8080/"
        },
        "id": "-S8CD9ucYZHD",
        "outputId": "154c19b9-3e67-4e4d-f5ab-366415560500"
      },
      "outputs": [
        {
          "output_type": "stream",
          "name": "stderr",
          "text": [
            "100%|██████████| 20/20 [04:36<00:00, 13.84s/it]\n"
          ]
        },
        {
          "output_type": "stream",
          "name": "stdout",
          "text": [
            "DeepAgent player wins 0.0% of the time!\n"
          ]
        },
        {
          "output_type": "stream",
          "name": "stderr",
          "text": [
            "100%|██████████| 20/20 [05:40<00:00, 17.04s/it]"
          ]
        },
        {
          "output_type": "stream",
          "name": "stdout",
          "text": [
            "DeepAgent player wins 5.0% of the time!\n"
          ]
        },
        {
          "output_type": "stream",
          "name": "stderr",
          "text": [
            "\n"
          ]
        }
      ],
      "source": [
        "game = GamePlayer(HardAgent(Piece.WHITE),DeepAgent(Piece.BLACK))\n",
        "deep_agent_wins_second = 0\n",
        "games_to_play = 20\n",
        "for i in tqdm(range(games_to_play)):\n",
        "  winner = game.playGame()\n",
        "  # print(\"deep agent didn't win\")\n",
        "  if winner == 'player 2 won':\n",
        "    # print(\"deep agent won\")\n",
        "    deep_agent_wins_second += 1\n",
        "print(f'DeepAgent player wins {deep_agent_wins_second * 100 / games_to_play}% of the time!')\n",
        "game = GamePlayer(DeepAgent(Piece.WHITE),HardAgent(Piece.BLACK))\n",
        "deep_agent_wins_first = 0\n",
        "games_to_play = 20\n",
        "for i in tqdm(range(games_to_play)):\n",
        "  winner = game.playGame()\n",
        "  # print(\"deep agent didn't win\")\n",
        "  if winner == 'player 1 won':\n",
        "    # print(\"deep agent won\")\n",
        "    deep_agent_wins_first += 1\n",
        "print(f'DeepAgent player wins {deep_agent_wins_first * 100 / games_to_play}% of the time!')"
      ]
    },
    {
      "cell_type": "code",
      "execution_count": 44,
      "id": "TPg4_Y-OYZHE",
      "metadata": {
        "id": "TPg4_Y-OYZHE"
      },
      "outputs": [],
      "source": [
        "results.loc[4] = [\"DeepAgent\", \"HardAgent\", deep_agent_wins_first,20-deep_agent_wins_first]"
      ]
    },
    {
      "cell_type": "code",
      "execution_count": 62,
      "id": "xgC9aIxudlD4",
      "metadata": {
        "id": "xgC9aIxudlD4"
      },
      "outputs": [],
      "source": [
        "results.loc[5] = [\"DeepAgent\", \"HardAgent\", 20-deep_agent_wins_second,deep_agent_wins_second]"
      ]
    },
    {
      "cell_type": "markdown",
      "id": "ba8e2407",
      "metadata": {
        "id": "ba8e2407"
      },
      "source": [
        "## Easy vs Medium Agent"
      ]
    },
    {
      "cell_type": "code",
      "execution_count": 32,
      "id": "ezF6hDE1eGg4",
      "metadata": {
        "id": "ezF6hDE1eGg4",
        "colab": {
          "base_uri": "https://localhost:8080/"
        },
        "outputId": "071f6d02-5f48-4f00-cc3d-997e6a298e29"
      },
      "outputs": [
        {
          "output_type": "stream",
          "name": "stderr",
          "text": [
            "100%|██████████| 20/20 [00:04<00:00,  4.01it/s]\n"
          ]
        },
        {
          "output_type": "stream",
          "name": "stdout",
          "text": [
            "MediumAgent player wins 80.0% of the time!\n"
          ]
        },
        {
          "output_type": "stream",
          "name": "stderr",
          "text": [
            "100%|██████████| 20/20 [00:06<00:00,  3.10it/s]"
          ]
        },
        {
          "output_type": "stream",
          "name": "stdout",
          "text": [
            "MediumAgent player wins 90.0% of the time!\n"
          ]
        },
        {
          "output_type": "stream",
          "name": "stderr",
          "text": [
            "\n"
          ]
        }
      ],
      "source": [
        "game = GamePlayer(EasyAgent(Piece.WHITE),MediumAgent(Piece.BLACK))\n",
        "MediumAgent_wins_second = 0\n",
        "games_to_play = 20\n",
        "for i in tqdm(range(games_to_play)):\n",
        "  winner = game.playGame()\n",
        "  if winner == 'player 2 won':\n",
        "    MediumAgent_wins_second += 1\n",
        "print(f'MediumAgent player wins {MediumAgent_wins_second * 100 / games_to_play}% of the time!')\n",
        "game = GamePlayer(MediumAgent(Piece.WHITE),EasyAgent(Piece.BLACK))\n",
        "MediumAgent_wins_first = 0\n",
        "games_to_play = 20\n",
        "for i in tqdm(range(games_to_play)):\n",
        "  winner = game.playGame()\n",
        "  if winner == 'player 1 won':\n",
        "    MediumAgent_wins_first += 1\n",
        "print(f'MediumAgent player wins {MediumAgent_wins_first * 100 / games_to_play}% of the time!')"
      ]
    },
    {
      "cell_type": "code",
      "execution_count": 33,
      "id": "Z_Y1GUZWeGg5",
      "metadata": {
        "id": "Z_Y1GUZWeGg5"
      },
      "outputs": [],
      "source": [
        "results.loc[6] = [\"EasyAgent\", \"MediumAgent\", MediumAgent_wins_first,20-MediumAgent_wins_first]"
      ]
    },
    {
      "cell_type": "code",
      "execution_count": 34,
      "id": "tko2p6DOeGg6",
      "metadata": {
        "id": "tko2p6DOeGg6"
      },
      "outputs": [],
      "source": [
        "results.loc[7] = [\"MediumAgent\", \"EasyAgent\", 20-MediumAgent_wins_second,MediumAgent_wins_second]"
      ]
    },
    {
      "cell_type": "markdown",
      "source": [
        "## Easy vs Hard Agent"
      ],
      "metadata": {
        "id": "jTQxWy9EqyKa"
      },
      "id": "jTQxWy9EqyKa"
    },
    {
      "cell_type": "code",
      "source": [
        "game = GamePlayer(EasyAgent(Piece.WHITE),HardAgent(Piece.BLACK))\n",
        "HardAgent_wins_second = 0\n",
        "games_to_play = 20\n",
        "for i in tqdm(range(games_to_play)):\n",
        " winner = game.playGame()\n",
        " if winner == 'player 2 won':\n",
        "   HardAgent_wins_second += 1\n",
        "print(f'HardAgent player wins {HardAgent_wins_second * 100 / games_to_play}% of the time!')\n",
        "game = GamePlayer(HardAgent(Piece.WHITE),EasyAgent(Piece.BLACK))\n",
        "HardAgent_wins_first = 0\n",
        "games_to_play = 20\n",
        "for i in tqdm(range(games_to_play)):\n",
        " winner = game.playGame()\n",
        " if winner == 'player 1 won':\n",
        "   HardAgent_wins_first += 1\n",
        "print(f'HardAgent player wins {HardAgent_wins_first * 100 / games_to_play}% of the time!')"
      ],
      "metadata": {
        "colab": {
          "base_uri": "https://localhost:8080/"
        },
        "id": "AUXoTVsOq2j6",
        "outputId": "520959ea-ef78-485b-dacc-2206208b68ec"
      },
      "id": "AUXoTVsOq2j6",
      "execution_count": 51,
      "outputs": [
        {
          "output_type": "stream",
          "name": "stderr",
          "text": [
            "100%|██████████| 20/20 [00:59<00:00,  2.97s/it]\n"
          ]
        },
        {
          "output_type": "stream",
          "name": "stdout",
          "text": [
            "HardAgent player wins 85.0% of the time!\n"
          ]
        },
        {
          "output_type": "stream",
          "name": "stderr",
          "text": [
            "100%|██████████| 20/20 [00:54<00:00,  2.74s/it]"
          ]
        },
        {
          "output_type": "stream",
          "name": "stdout",
          "text": [
            "HardAgent player wins 95.0% of the time!\n"
          ]
        },
        {
          "output_type": "stream",
          "name": "stderr",
          "text": [
            "\n"
          ]
        }
      ]
    },
    {
      "cell_type": "code",
      "execution_count": 52,
      "metadata": {
        "id": "PaXkj6u6q39w"
      },
      "outputs": [],
      "source": [
        "results.loc[8] = [\"EasyAgent\", \"HardAgent\", HardAgent_wins_first,20-HardAgent_wins_first]"
      ],
      "id": "PaXkj6u6q39w"
    },
    {
      "cell_type": "code",
      "execution_count": 53,
      "metadata": {
        "id": "2xf42S9cq39w"
      },
      "outputs": [],
      "source": [
        "results.loc[9] = [\"HardAgent\", \"EasyAgent\", 20-HardAgent_wins_second,HardAgent_wins_second]"
      ],
      "id": "2xf42S9cq39w"
    },
    {
      "cell_type": "markdown",
      "source": [
        "## Medium vs Hard Agent"
      ],
      "metadata": {
        "id": "bMP9Rqt7rI4y"
      },
      "id": "bMP9Rqt7rI4y"
    },
    {
      "cell_type": "code",
      "source": [
        "game = GamePlayer(EasyAgent(Piece.WHITE),HardAgent(Piece.BLACK))\n",
        "HardAgent_wins_second = 0\n",
        "games_to_play = 20\n",
        "for i in tqdm(range(games_to_play)):\n",
        " winner = game.playGame()\n",
        " if winner == 'player 2 won':\n",
        "   HardAgent_wins_second += 1\n",
        "print(f'HardAgent player wins {HardAgent_wins_second * 100 / games_to_play}% of the time!')\n",
        "game = GamePlayer(HardAgent(Piece.WHITE),EasyAgent(Piece.BLACK))\n",
        "HardAgent_wins_first = 0\n",
        "games_to_play = 20\n",
        "for i in tqdm(range(games_to_play)):\n",
        " winner = game.playGame()\n",
        " if winner == 'player 1 won':\n",
        "   HardAgent_wins_first += 1\n",
        "print(f'HardAgent player wins {HardAgent_wins_first * 100 / games_to_play}% of the time!')"
      ],
      "metadata": {
        "colab": {
          "base_uri": "https://localhost:8080/"
        },
        "id": "byCT5JQYrN9g",
        "outputId": "b2e4e26d-642f-4c1b-ca8e-ea51c88e4639"
      },
      "execution_count": 54,
      "outputs": [
        {
          "output_type": "stream",
          "name": "stderr",
          "text": [
            "100%|██████████| 20/20 [00:48<00:00,  2.43s/it]\n"
          ]
        },
        {
          "output_type": "stream",
          "name": "stdout",
          "text": [
            "HardAgent player wins 85.0% of the time!\n"
          ]
        },
        {
          "output_type": "stream",
          "name": "stderr",
          "text": [
            "100%|██████████| 20/20 [00:52<00:00,  2.64s/it]"
          ]
        },
        {
          "output_type": "stream",
          "name": "stdout",
          "text": [
            "HardAgent player wins 90.0% of the time!\n"
          ]
        },
        {
          "output_type": "stream",
          "name": "stderr",
          "text": [
            "\n"
          ]
        }
      ],
      "id": "byCT5JQYrN9g"
    },
    {
      "cell_type": "code",
      "execution_count": 55,
      "metadata": {
        "id": "DseGTcaKrN9h"
      },
      "outputs": [],
      "source": [
        "results.loc[10] = [\"HardAgent\", \"MediumAgent\", HardAgent_wins_first,20-HardAgent_wins_first]"
      ],
      "id": "DseGTcaKrN9h"
    },
    {
      "cell_type": "code",
      "execution_count": 56,
      "metadata": {
        "id": "JzVm06P_rN9i"
      },
      "outputs": [],
      "source": [
        "results.loc[11] = [\"MediumAgent\", \"HardAgent\", 20-HardAgent_wins_second,HardAgent_wins_second]"
      ],
      "id": "JzVm06P_rN9i"
    },
    {
      "cell_type": "code",
      "source": [
        "results"
      ],
      "metadata": {
        "colab": {
          "base_uri": "https://localhost:8080/",
          "height": 421
        },
        "id": "xm1F21Po3vzG",
        "outputId": "707c562b-777f-465b-b941-4538fdc0953f"
      },
      "id": "xm1F21Po3vzG",
      "execution_count": 63,
      "outputs": [
        {
          "output_type": "execute_result",
          "data": {
            "text/plain": [
              "        Player1      Player2  Games_Won_by_Player1  Games_Won_by_Player2\n",
              "0     DeepAgent    EasyAgent                     2                    18\n",
              "1     EasyAgent    DeepAgent                    16                     4\n",
              "2     DeepAgent  MediumAgent                     1                    19\n",
              "3   MediumAgent    DeepAgent                    20                     0\n",
              "4     DeepAgent    HardAgent                     1                    19\n",
              "5     DeepAgent    HardAgent                    20                     0\n",
              "6     EasyAgent  MediumAgent                    18                     2\n",
              "7   MediumAgent    EasyAgent                     4                    16\n",
              "8     EasyAgent    HardAgent                    19                     1\n",
              "9     HardAgent    EasyAgent                     3                    17\n",
              "10    HardAgent  MediumAgent                    18                     2\n",
              "11  MediumAgent    HardAgent                     3                    17"
            ],
            "text/html": [
              "\n",
              "  <div id=\"df-53aedf34-5772-48cb-b1f7-cf510bc163ca\">\n",
              "    <div class=\"colab-df-container\">\n",
              "      <div>\n",
              "<style scoped>\n",
              "    .dataframe tbody tr th:only-of-type {\n",
              "        vertical-align: middle;\n",
              "    }\n",
              "\n",
              "    .dataframe tbody tr th {\n",
              "        vertical-align: top;\n",
              "    }\n",
              "\n",
              "    .dataframe thead th {\n",
              "        text-align: right;\n",
              "    }\n",
              "</style>\n",
              "<table border=\"1\" class=\"dataframe\">\n",
              "  <thead>\n",
              "    <tr style=\"text-align: right;\">\n",
              "      <th></th>\n",
              "      <th>Player1</th>\n",
              "      <th>Player2</th>\n",
              "      <th>Games_Won_by_Player1</th>\n",
              "      <th>Games_Won_by_Player2</th>\n",
              "    </tr>\n",
              "  </thead>\n",
              "  <tbody>\n",
              "    <tr>\n",
              "      <th>0</th>\n",
              "      <td>DeepAgent</td>\n",
              "      <td>EasyAgent</td>\n",
              "      <td>2</td>\n",
              "      <td>18</td>\n",
              "    </tr>\n",
              "    <tr>\n",
              "      <th>1</th>\n",
              "      <td>EasyAgent</td>\n",
              "      <td>DeepAgent</td>\n",
              "      <td>16</td>\n",
              "      <td>4</td>\n",
              "    </tr>\n",
              "    <tr>\n",
              "      <th>2</th>\n",
              "      <td>DeepAgent</td>\n",
              "      <td>MediumAgent</td>\n",
              "      <td>1</td>\n",
              "      <td>19</td>\n",
              "    </tr>\n",
              "    <tr>\n",
              "      <th>3</th>\n",
              "      <td>MediumAgent</td>\n",
              "      <td>DeepAgent</td>\n",
              "      <td>20</td>\n",
              "      <td>0</td>\n",
              "    </tr>\n",
              "    <tr>\n",
              "      <th>4</th>\n",
              "      <td>DeepAgent</td>\n",
              "      <td>HardAgent</td>\n",
              "      <td>1</td>\n",
              "      <td>19</td>\n",
              "    </tr>\n",
              "    <tr>\n",
              "      <th>5</th>\n",
              "      <td>DeepAgent</td>\n",
              "      <td>HardAgent</td>\n",
              "      <td>20</td>\n",
              "      <td>0</td>\n",
              "    </tr>\n",
              "    <tr>\n",
              "      <th>6</th>\n",
              "      <td>EasyAgent</td>\n",
              "      <td>MediumAgent</td>\n",
              "      <td>18</td>\n",
              "      <td>2</td>\n",
              "    </tr>\n",
              "    <tr>\n",
              "      <th>7</th>\n",
              "      <td>MediumAgent</td>\n",
              "      <td>EasyAgent</td>\n",
              "      <td>4</td>\n",
              "      <td>16</td>\n",
              "    </tr>\n",
              "    <tr>\n",
              "      <th>8</th>\n",
              "      <td>EasyAgent</td>\n",
              "      <td>HardAgent</td>\n",
              "      <td>19</td>\n",
              "      <td>1</td>\n",
              "    </tr>\n",
              "    <tr>\n",
              "      <th>9</th>\n",
              "      <td>HardAgent</td>\n",
              "      <td>EasyAgent</td>\n",
              "      <td>3</td>\n",
              "      <td>17</td>\n",
              "    </tr>\n",
              "    <tr>\n",
              "      <th>10</th>\n",
              "      <td>HardAgent</td>\n",
              "      <td>MediumAgent</td>\n",
              "      <td>18</td>\n",
              "      <td>2</td>\n",
              "    </tr>\n",
              "    <tr>\n",
              "      <th>11</th>\n",
              "      <td>MediumAgent</td>\n",
              "      <td>HardAgent</td>\n",
              "      <td>3</td>\n",
              "      <td>17</td>\n",
              "    </tr>\n",
              "  </tbody>\n",
              "</table>\n",
              "</div>\n",
              "      <button class=\"colab-df-convert\" onclick=\"convertToInteractive('df-53aedf34-5772-48cb-b1f7-cf510bc163ca')\"\n",
              "              title=\"Convert this dataframe to an interactive table.\"\n",
              "              style=\"display:none;\">\n",
              "        \n",
              "  <svg xmlns=\"http://www.w3.org/2000/svg\" height=\"24px\"viewBox=\"0 0 24 24\"\n",
              "       width=\"24px\">\n",
              "    <path d=\"M0 0h24v24H0V0z\" fill=\"none\"/>\n",
              "    <path d=\"M18.56 5.44l.94 2.06.94-2.06 2.06-.94-2.06-.94-.94-2.06-.94 2.06-2.06.94zm-11 1L8.5 8.5l.94-2.06 2.06-.94-2.06-.94L8.5 2.5l-.94 2.06-2.06.94zm10 10l.94 2.06.94-2.06 2.06-.94-2.06-.94-.94-2.06-.94 2.06-2.06.94z\"/><path d=\"M17.41 7.96l-1.37-1.37c-.4-.4-.92-.59-1.43-.59-.52 0-1.04.2-1.43.59L10.3 9.45l-7.72 7.72c-.78.78-.78 2.05 0 2.83L4 21.41c.39.39.9.59 1.41.59.51 0 1.02-.2 1.41-.59l7.78-7.78 2.81-2.81c.8-.78.8-2.07 0-2.86zM5.41 20L4 18.59l7.72-7.72 1.47 1.35L5.41 20z\"/>\n",
              "  </svg>\n",
              "      </button>\n",
              "      \n",
              "  <style>\n",
              "    .colab-df-container {\n",
              "      display:flex;\n",
              "      flex-wrap:wrap;\n",
              "      gap: 12px;\n",
              "    }\n",
              "\n",
              "    .colab-df-convert {\n",
              "      background-color: #E8F0FE;\n",
              "      border: none;\n",
              "      border-radius: 50%;\n",
              "      cursor: pointer;\n",
              "      display: none;\n",
              "      fill: #1967D2;\n",
              "      height: 32px;\n",
              "      padding: 0 0 0 0;\n",
              "      width: 32px;\n",
              "    }\n",
              "\n",
              "    .colab-df-convert:hover {\n",
              "      background-color: #E2EBFA;\n",
              "      box-shadow: 0px 1px 2px rgba(60, 64, 67, 0.3), 0px 1px 3px 1px rgba(60, 64, 67, 0.15);\n",
              "      fill: #174EA6;\n",
              "    }\n",
              "\n",
              "    [theme=dark] .colab-df-convert {\n",
              "      background-color: #3B4455;\n",
              "      fill: #D2E3FC;\n",
              "    }\n",
              "\n",
              "    [theme=dark] .colab-df-convert:hover {\n",
              "      background-color: #434B5C;\n",
              "      box-shadow: 0px 1px 3px 1px rgba(0, 0, 0, 0.15);\n",
              "      filter: drop-shadow(0px 1px 2px rgba(0, 0, 0, 0.3));\n",
              "      fill: #FFFFFF;\n",
              "    }\n",
              "  </style>\n",
              "\n",
              "      <script>\n",
              "        const buttonEl =\n",
              "          document.querySelector('#df-53aedf34-5772-48cb-b1f7-cf510bc163ca button.colab-df-convert');\n",
              "        buttonEl.style.display =\n",
              "          google.colab.kernel.accessAllowed ? 'block' : 'none';\n",
              "\n",
              "        async function convertToInteractive(key) {\n",
              "          const element = document.querySelector('#df-53aedf34-5772-48cb-b1f7-cf510bc163ca');\n",
              "          const dataTable =\n",
              "            await google.colab.kernel.invokeFunction('convertToInteractive',\n",
              "                                                     [key], {});\n",
              "          if (!dataTable) return;\n",
              "\n",
              "          const docLinkHtml = 'Like what you see? Visit the ' +\n",
              "            '<a target=\"_blank\" href=https://colab.research.google.com/notebooks/data_table.ipynb>data table notebook</a>'\n",
              "            + ' to learn more about interactive tables.';\n",
              "          element.innerHTML = '';\n",
              "          dataTable['output_type'] = 'display_data';\n",
              "          await google.colab.output.renderOutput(dataTable, element);\n",
              "          const docLink = document.createElement('div');\n",
              "          docLink.innerHTML = docLinkHtml;\n",
              "          element.appendChild(docLink);\n",
              "        }\n",
              "      </script>\n",
              "    </div>\n",
              "  </div>\n",
              "  "
            ]
          },
          "metadata": {},
          "execution_count": 63
        }
      ]
    },
    {
      "cell_type": "markdown",
      "source": [
        "## Minmax vs Easy Agent"
      ],
      "metadata": {
        "id": "ZUdS_c5GrWkK"
      },
      "id": "ZUdS_c5GrWkK"
    }
  ],
  "metadata": {
    "colab": {
      "provenance": []
    },
    "kernelspec": {
      "display_name": "python310",
      "language": "python",
      "name": "python310"
    },
    "language_info": {
      "codemirror_mode": {
        "name": "ipython",
        "version": 3
      },
      "file_extension": ".py",
      "mimetype": "text/x-python",
      "name": "python",
      "nbconvert_exporter": "python",
      "pygments_lexer": "ipython3",
      "version": "3.10.8"
    }
  },
  "nbformat": 4,
  "nbformat_minor": 5
}